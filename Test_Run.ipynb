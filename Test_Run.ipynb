{
 "cells": [
  {
   "cell_type": "code",
   "execution_count": 1,
   "metadata": {},
   "outputs": [],
   "source": [
    "import ODESolve\n",
    "import ipywidgets as widgets\n",
    "import numba as nb\n",
    "import numpy as np\n",
    "import derivatives as der\n",
    "import interp\n",
    "import simp_spreading as cv\n",
    "import coll_varbins as cvv\n",
    "import Collision_approx as ca\n",
    "import os\n",
    "import shutil\n",
    "import RunSterileDecay as RSD\n",
    "import matplotlib.pyplot as plt\n",
    "import nu_nu_collisions as coll\n",
    "from Constants import mpi_neutral\n",
    "\n",
    "from var_param import f_TINY, f_MINI, f_SMALL, f_BUFFER, MIN_eps_BUFFER, a_MAXMULT, eps_small_MAX, len_y_MAX, small_boxsize, eps_small_box, num_small_boxes, initial_boxsize\n",
    "\n",
    "\n",
    "@nb.njit()\n",
    "def infl(k):\n",
    "    return int(np.round(k,0))\n",
    "\n",
    "@nb.njit()\n",
    "def find_breaks(f, E5_index = 0, E2_index = 0):\n",
    "    k = np.ones(3) * (len(f) - 1)\n",
    "    \n",
    "    if (len(np.where(f < f_TINY)[0]) > 0):\n",
    "        k[0] = np.where(f < f_TINY)[0][0]\n",
    "    if (len(np.where(f < f_MINI)[0]) > 0):\n",
    "        k[1] = np.where(f < f_MINI)[0][0]\n",
    "    if (len(np.where(f < f_SMALL)[0]) > 0):\n",
    "        k[2] = np.where(f < f_SMALL)[0][0]\n",
    "    \n",
    "    for i in range(infl(k[0]), len(f)):\n",
    "        if f[i] > f_TINY:\n",
    "            k[0] = i+1\n",
    "    for i in range(infl(k[1]), len(f)):\n",
    "        if f[i] > f_MINI:\n",
    "            k[1] = i+1\n",
    "    for i in range(infl(k[2]),len(f)):\n",
    "        if f[i] > f_SMALL:\n",
    "            k[2] = i+1\n",
    "\n",
    "    for j in range(3):\n",
    "        for i in [E5_index, E2_index]:\n",
    "            if i - MIN_eps_BUFFER < k[j] <= i:\n",
    "                k[j] += 2 * MIN_eps_BUFFER\n",
    "            if i <= k[j] < i + MIN_eps_BUFFER:\n",
    "                k[j] += MIN_eps_BUFFER\n",
    "        for jj in range(j+1,3):\n",
    "            if k[jj] < k[j] + MIN_eps_BUFFER:\n",
    "                k[jj] = k[j] + MIN_eps_BUFFER\n",
    "        if k[j] >= len(f):\n",
    "            k[j] = len(f) - 1\n",
    "    return k\n",
    "\n",
    "@nb.njit()\n",
    "def make_p(a0, eps, f, p_fix, A_model, n_model):\n",
    "    len_eps = len(eps)\n",
    "    p = np.zeros(len_eps + 11)\n",
    "    p[:len_eps] = eps\n",
    "    p[-4:] = p_fix\n",
    "    p[-10] = len_eps\n",
    "    p[-11] = eps[-1] - eps[-2]\n",
    "    \n",
    "    p[-8] = A_model\n",
    "    p[-9] = n_model\n",
    "    \n",
    "    ms = p_fix[-1]\n",
    "    EB5 = ms/2\n",
    "    EB2 = (ms**2 - mpi_neutral**2)/(2*ms)\n",
    "    \n",
    "    p[-7:-4] = find_breaks(f, E5_index = np.where(eps < EB5 * a0)[0][-1], E2_index = np.where(eps < EB2 * a0)[0][-1])\n",
    "    \n",
    "    return p\n",
    "\n",
    "@nb.njit()\n",
    "def find_a_MAX(a0, t, p):\n",
    "    ms = p[-1]\n",
    "    tau = p[-2]\n",
    "    D = p[-3]\n",
    "    len_eps = infl(p[-10])\n",
    "    deps_last = p[-11]\n",
    "    \n",
    "    EB5 = ms/2\n",
    "    EB2 = (ms**2 - mpi_neutral**2)/(2*ms)\n",
    "    \n",
    "    \n",
    "    f_FULL = 2 * np.pi**2 * der.nH(t, 1/a0, p[-2], p[-3]) / ( 1/a0 * EB5**2 * deps_last )\n",
    "    decay_on = True\n",
    "    \n",
    "    if f_FULL < f_BUFFER:\n",
    "        decay_on = False\n",
    "        \n",
    "    a_max = a0 * a_MAXMULT\n",
    "    \n",
    "    if decay_on:\n",
    "        a_max = min(a_max, p[len_eps - 2 * MIN_eps_BUFFER - 1] / EB2)\n",
    "    \n",
    "    return a_max, decay_on\n",
    "\n",
    "@nb.njit()\n",
    "def driver(a0, eps0, y0, dx0, N_steps, dN, A_model, n_model, p_fix):\n",
    "    a_MAX, decay_on = find_a_MAX(a0, y0[-1], make_p(a0, eps0, y0[:-2], p_fix, A_model, n_model))\n",
    "    \n",
    "    a = a0\n",
    "    eps = np.copy(eps0)\n",
    "    y = np.copy(y0)\n",
    "    dx = dx0\n",
    "    \n",
    "    out_a = np.zeros(N_steps+1)\n",
    "    out_y = np.zeros((N_steps+1, len(y0)))\n",
    "    out_dx = np.zeros(N_steps+1)\n",
    "    \n",
    "    last_ind = N_steps\n",
    "    \n",
    "    eps_small = np.where(y0[:-2] > f_SMALL)[0][-1]\n",
    "    eps_buffer = np.where(y0[:-2] > f_BUFFER)[0][-1]\n",
    "    \n",
    "    out_a[0] = a0\n",
    "    out_y[0,:] = y0\n",
    "    out_dx[0] = dx0\n",
    "    \n",
    "    for ns in range(N_steps):\n",
    "        params = make_p(a, eps, y[:-2], p_fix, A_model, n_model)\n",
    "                \n",
    "        ode_out = ODESolve.ODEOneRun(a, y, dx, params, 1, dN, a_MAX)\n",
    "        \n",
    "        a = ode_out[0][-1]\n",
    "        dx = ode_out[2][-1]\n",
    "        y = np.copy(ode_out[1][-1])\n",
    "        \n",
    "        out_a[ns+1] = a\n",
    "        out_y[ns+1][:] = y\n",
    "        out_dx[ns+1] = dx\n",
    "        \n",
    "        if ode_out[3]:\n",
    "            last_ind = ns + 1\n",
    "            break\n",
    "            \n",
    "        eps_check = np.where(y[:-2] > f_SMALL)[0][-1]  \n",
    "        if eps_check - eps_small > (eps_buffer - eps_small) / 2:\n",
    "            last_ind = ns + 1\n",
    "            break\n",
    "\n",
    "            \n",
    "    \n",
    "    return out_a[:(last_ind+1)], out_y[:(last_ind+1),:], out_dx[:(last_ind+1)], decay_on\n",
    "\n",
    "@nb.njit()\n",
    "def forward(mH, y_v, e_array, a, decay_on):\n",
    "    eps_small_new = np.where(y_v[:-2] > f_SMALL)[0][-1]\n",
    "    xp = np.zeros(2)\n",
    "    yp = np.zeros(2)\n",
    "    kk = 0\n",
    "    while (yp[1] >= yp[0]):\n",
    "        if eps_small_new + kk >= len(e_array):\n",
    "            break\n",
    "        else:\n",
    "            for i in range(2):\n",
    "                yp[i] = y_v[eps_small_new + kk + i - 1]\n",
    "                xp[i] = e_array[eps_small_new + kk + i - 1]\n",
    "            kk += 1\n",
    "            \n",
    "    if eps_small_new + kk == len(e_array):\n",
    "        print(\"f is increasing at last box?\")\n",
    "        return y_v, e_array\n",
    "    \n",
    "    eps_small_new = eps_small_new + kk\n",
    "    bxsz = abs(xp[1] - xp[0])\n",
    "    new_len = len(y_v)\n",
    "    if y_v[eps_small_new] < f_BUFFER:\n",
    "        new_len = eps_small_new\n",
    "    else:\n",
    "        if decay_on:\n",
    "            e_up = np.where(e_array < 0.5 * mH * a)[0][-1]\n",
    "            if e_up > len(e_array) - 2 * MIN_eps_BUFFER:\n",
    "                e_up += MIN_eps_BUFFER * 3\n",
    "            e_test = e_array[eps_small_new-1] + (new_len - (MIN_eps_BUFFER + 1) - eps_small_new) * bxsz\n",
    "            while (e_test - 3*MIN_eps_BUFFER * bxsz)/a <= 0.5 * mH:\n",
    "                e_up += MIN_eps_BUFFER\n",
    "                e_test = e_array[eps_small_new-1] + (e_up - (MIN_eps_BUFFER + 1) - eps_small_new) * bxsz\n",
    "            \n",
    "            e_temp = max(eps_small_new, e_up)\n",
    "        else:\n",
    "            e_temp = eps_small_new\n",
    "            \n",
    "        if e_temp > len(y_v) - 5:\n",
    "            new_len = e_temp\n",
    "            \n",
    "            eps_small_new = np.where(y_v[:-2] > np.sqrt(f_SMALL*f_BUFFER))[0][-1]\n",
    "            yp[0] = y_v[eps_small_new-1]\n",
    "            yp[1] = y_v[eps_small_new]\n",
    "            xp[0] = e_array[eps_small_new-1]\n",
    "            xp[1] = e_array[eps_small_new]\n",
    "            \n",
    "            while yp[1] > yp[0]:\n",
    "                eps_small_new += 2\n",
    "                yp[0] = y_v[eps_small_new-1]\n",
    "                yp[1] = y_v[eps_small_new]\n",
    "                xp[0] = e_array[eps_small_new-1]\n",
    "                xp[1] = e_array[eps_small_new]\n",
    "                \n",
    "        else:\n",
    "            if y_v[e_temp] < f_BUFFER:\n",
    "                new_len = e_temp\n",
    "                eps_small_new = e_temp\n",
    "            else:\n",
    "                new_len = e_temp\n",
    "                \n",
    "                yp[0] = y_v[e_temp]\n",
    "                yp[1] = y_v[e_temp+1]\n",
    "                xp[0] = e_array[e_temp]\n",
    "                xp[1] = e_array[e_temp+1]\n",
    "                e_extrap = e_temp\n",
    "\n",
    "                while e_temp < len(y_v) - 5:\n",
    "                    if y_v[e_temp] < f_BUFFER:\n",
    "                        break\n",
    "                    if y_v[e_temp+1] < y_v[e_temp] and yp[1]/yp[0] > y_v[e_temp+1]/y_v[e_temp]:\n",
    "                        yp[0] = y_v[e_temp]\n",
    "                        yp[1] = y_v[e_temp+1]\n",
    "                        xp[0] = e_array[e_temp]\n",
    "                        xp[1] = e_array[e_temp+1]\n",
    "                        e_extrap = e_temp\n",
    "                    e_temp += 2\n",
    "                \n",
    "                for i in range(20*eps_small_new):\n",
    "                    if interp.log_linear_extrap(xp[0] + i * bxsz, xp, yp) > f_BUFFER:\n",
    "                        new_len = i + e_extrap\n",
    "                    else:\n",
    "                        break\n",
    "                    \n",
    "                eps_small_new = e_extrap\n",
    "    y = np.zeros(new_len+2)\n",
    "    y[-1] = y_v[-1]\n",
    "    y[-2] = y_v[-2]\n",
    "    eps_array = np.zeros(new_len)\n",
    "    for i in range(eps_small_new):\n",
    "        eps_array[i] = e_array[i]\n",
    "        y[i] = y_v[i]\n",
    "    if len(eps_array) > eps_small_new:\n",
    "        for i in range(eps_small_new, len(eps_array)):\n",
    "            eps_array[i] = e_array[eps_small_new-1] + (i+1 - eps_small_new) * bxsz\n",
    "            y[i] = interp.log_linear_extrap(eps_array[i], xp, yp)\n",
    "\n",
    "    return y, eps_array\n",
    "\n",
    "def nextstep(a0, eps0, y0, dx0, N_steps, dN, p_fix, fn, nr):\n",
    "    \n",
    "    input_filename = fn + \"/inputs-{}\".format(nr)\n",
    "    output_filename = fn + \"/full-{}\".format(nr)\n",
    "    \n",
    "    A_model, n_model = ca.model_An(a0, y0[-2])\n",
    "\n",
    "    np.savez(input_filename,ms=p_fix[-1],mixangle=p_fix[-4],a0=a0,y0=y0,dx0=dx0,e_array=eps0,A_model=A_model,n_model=n_model)\n",
    "    \n",
    "    result = driver(a0, eps0, y0, dx0, N_steps, dN, A_model, n_model, p_fix)\n",
    "    \n",
    "    np.savez(output_filename,ms=p_fix[-1],mixangle=p_fix[-4],a=result[0],y=result[1],dx=result[2],eps=eps0)\n",
    "    \n",
    "    y_next, eps_next = forward(p_fix[-1], result[1][-1], eps0, result[0][-1], result[3])\n",
    "    \n",
    "    return result[0][-1], eps_next, y_next, result[2][-1]\n",
    "\n",
    "\n",
    "def run_code(a0, eps0, y0, dx0, p_fix, temp_fin, folder_name):\n",
    "    a = a0\n",
    "    eps = np.copy(eps0)\n",
    "    y = np.copy(y0)\n",
    "    dx = dx0\n",
    "    for i in range(200):\n",
    "        a, eps, y, dx = nextstep(a, eps, y, dx, 100, 100, p_fix, folder_name, i)\n",
    "        \n",
    "        eps_small = np.where(y[:-2] > f_SMALL)[0][-1]\n",
    "        if eps_small > eps_small_MAX or len(y) > len_y_MAX:\n",
    "            y, eps = cv.simple_spread_eps(y, eps)\n",
    "            \n",
    "        if y[-2] < temp_fin:\n",
    "            break\n",
    "\n",
    "def run_code_error(folder_name, inputs_file):    \n",
    "    in_npz = np.load(\"{}/{}\".format(folder_name,inputs_file))\n",
    "    a = float(in_npz['a0'])\n",
    "    y = in_npz['y0']\n",
    "    eps = in_npz['e_array']\n",
    "    dx = float(in_npz['dx0'])\n",
    "    \n",
    "    p_fix = make_p_fixed(float(in_npz['ms']), float(in_npz['mixangle']), 1/1.79**3)\n",
    "\n",
    "    fn = \"{}/debug\".format(folder_name)    \n",
    "    if not os.path.exists(fn):\n",
    "        os.makedirs(fn)\n",
    "    else:\n",
    "        print(\"Folder {} already exists.  Overwriting any data\".format(fn))\n",
    "        \n",
    "    shutil.copy(\"{}/{}\".format(folder_name,inputs_file), \"{}/debug/original-{}\".format(folder_name, inputs_file))\n",
    "\n",
    "\n",
    "    for i in range(200):\n",
    "        a, eps, y, dx = nextstep(a, eps, y, dx, 10, 5, p_fix, fn, i)\n",
    "\n",
    "def run_code_w_error(a0, eps0, y0, dx0, p_fix, temp_fin, folder_name):\n",
    "    a = a0\n",
    "    eps = np.copy(eps0)\n",
    "    y = np.copy(y0)\n",
    "    dx = dx0\n",
    "    for i in range(200):\n",
    "        try:\n",
    "            a, eps, y, dx = nextstep(a, eps, y, dx, 100, 100, p_fix, folder_name, i)\n",
    "            \n",
    "            eps_small = np.where(y[:-2] > f_SMALL)[0][-1]\n",
    "            if eps_small > eps_small_MAX or len(y) > len_y_MAX:\n",
    "                y, eps = cv.simple_spread_eps(y, eps)\n",
    "            \n",
    "            if y[-2] < temp_fin:\n",
    "                break\n",
    "        except:\n",
    "            try:\n",
    "                run_code_error(folder_name, \"inputs-{}.npz\".format(i))\n",
    "                print(\"Error occurred in Run {}.  Somehow error was not repeated\".format(i))\n",
    "            except:\n",
    "                print(\"Error occurred in Run {}.  Debugging runs completed.\".format(i))                \n",
    "            return -1\n",
    "    return i\n",
    "\n",
    "@nb.njit()\n",
    "def make_p_fixed(ms,mixangle,D):\n",
    "    p_out = np.zeros(4,dtype=np.float64)\n",
    "    p_out[-1] = ms\n",
    "    p_out[-2] = der.tH(ms,mixangle)\n",
    "    p_out[-3] = D\n",
    "    p_out[-4] = mixangle\n",
    "    return p_out\n",
    "\n",
    "@nb.njit()\n",
    "def det_new_ics(T_i):\n",
    "    a = 1/T_i\n",
    "    eps_small = - int(np.log(f_SMALL)/initial_boxsize)\n",
    "    eps_buffer = max(eps_small + MIN_eps_BUFFER, - int(np.log(f_BUFFER)/initial_boxsize))\n",
    "\n",
    "    initial_size = int((eps_buffer * initial_boxsize - eps_small_box)/initial_boxsize) + num_small_boxes\n",
    "    y = np.zeros(initial_size + 2)\n",
    "    eps_arr = np.zeros(initial_size)\n",
    "    for i in range(num_small_boxes):\n",
    "        eps_arr[i] = i * small_boxsize\n",
    "        y[i] = 1 / (np.exp(eps_arr[i])+1)\n",
    "    for i in range(num_small_boxes, len(eps_arr)):\n",
    "        eps_arr[i] = eps_arr[num_small_boxes-1] + (i+1-num_small_boxes) * initial_boxsize\n",
    "        y[i] = 1 / (np.exp(eps_arr[i])+1)\n",
    "    y[-2] = T_i\n",
    "\n",
    "    return a, y, eps_arr\n",
    "\n",
    "def N_eff(a_f,T_f,f_final,e_a): #this code assumes that y_final does not have both neutrino & antineutrino information\n",
    "    TCM = 1/a_f \n",
    "    e_dens = (TCM**4/(2*np.pi**2))*der.trapezoid(f_final*e_a**3,e_a)\n",
    "    neff = e_dens/((7/4)*(4/11)**(4/3)*(np.pi**2/30)*(T_f)**4)\n",
    "    return 6*neff #to account for all 3 flavors of neutrinos and all 3 flavors of antineutrinos\n",
    "\n",
    "\n",
    "\n",
    "def run(ms, mixangle, T0 = 15, D = 1/1.79**3, Tfin = 0.001):\n",
    "    p_fix = make_p_fixed(ms, mixangle, D)\n",
    "\n",
    "    a0, y0, eps0 = det_new_ics(T0)\n",
    "    dx0 = a0/1000\n",
    "\n",
    "    print(\"Mass = {} MeV; Lifetime = {:.3} s\".format(ms,p_fix[-2]*6.58e-22))\n",
    "    \n",
    "    fn = \"{}-{:.4}\".format(ms,mixangle)\n",
    "\n",
    "    if not os.path.exists(fn):\n",
    "        os.makedirs(fn)\n",
    "    else:\n",
    "        print(\"Folder {} already exists.  Overwriting any data\".format(fn))\n",
    "\n",
    "    i_final = run_code_w_error(a0, eps0, y0, dx0, p_fix, Tfin, fn)\n",
    "    \n",
    "    if i_final != -1:\n",
    "        read_npz = np.load(\"{}/full-{}.npz\".format(fn,i_final))\n",
    "        af = read_npz['a'][-1]\n",
    "        Tf = read_npz['y'][-1,-2]\n",
    "        f_f = read_npz['y'][-1,:-2]\n",
    "        e_f = read_npz['eps']\n",
    "        print(\"N_eff = {:.5}\".format(N_eff(af, Tf, f_f, e_f)))\n",
    "    \n",
    "    \n",
    "#    print(\"N_eff = {}\".format(run_Neff(fn+\"full\")))\n",
    "\n"
   ]
  },
  {
   "cell_type": "code",
   "execution_count": 2,
   "metadata": {},
   "outputs": [],
   "source": [
    "aaa=np.load(\"mass-300-life-0.912.npz\",allow_pickle=True)"
   ]
  },
  {
   "cell_type": "code",
   "execution_count": 3,
   "metadata": {},
   "outputs": [
    {
     "data": {
      "text/plain": [
       "['mass',\n",
       " 'mixing',\n",
       " 'lifetime',\n",
       " 'neff',\n",
       " 'scalefactors',\n",
       " 'time',\n",
       " 'temp',\n",
       " 'Tcm',\n",
       " 'e',\n",
       " 'fe',\n",
       " 'NumbDensityDist',\n",
       " 'decayrate',\n",
       " 'collisionrate',\n",
       " 'n_p_rate',\n",
       " 'p_n_rate']"
      ]
     },
     "execution_count": 3,
     "metadata": {},
     "output_type": "execute_result"
    }
   ],
   "source": [
    "aaa.files"
   ]
  },
  {
   "cell_type": "code",
   "execution_count": 4,
   "metadata": {},
   "outputs": [],
   "source": [
    "eps = aaa['e'][200]\n",
    "y = np.zeros(len(eps)+2)\n",
    "y[:len(eps)]=aaa['fe'][200]\n",
    "y[-1]=aaa['temp'][200]\n",
    "y[-2]=aaa['time'][200]\n",
    "\n",
    "yy,x = cvv.simple_spread_eps(y,eps)\n",
    "yyy,xx = cv.simple_spread_eps(y,eps)"
   ]
  },
  {
   "cell_type": "code",
   "execution_count": 5,
   "metadata": {},
   "outputs": [
    {
     "data": {
      "text/plain": [
       "<Figure size 432x288 with 0 Axes>"
      ]
     },
     "execution_count": 5,
     "metadata": {},
     "output_type": "execute_result"
    },
    {
     "data": {
      "image/png": "[encoded data removed]",
      "text/plain": [
       "<Figure size 432x288 with 1 Axes>"
      ]
     },
     "metadata": {
      "needs_background": "light"
     },
     "output_type": "display_data"
    },
    {
     "data": {
      "text/plain": [
       "<Figure size 432x288 with 0 Axes>"
      ]
     },
     "metadata": {},
     "output_type": "display_data"
    }
   ],
   "source": [
    "plt.figure()\n",
    "plt.semilogy(x**3,yy[:-2], '-o')\n",
    "plt.semilogy(xx**3,yyy[:-2], '-o')\n",
    "#plt.xlim(10,20)\n",
    "#plt.ylim(10**-16,10**-6)\n",
    "plt.figure()"
   ]
  },
  {
   "cell_type": "code",
   "execution_count": 6,
   "metadata": {},
   "outputs": [],
   "source": [
    "#yyy[:-2]/yy[:-2]"
   ]
  },
  {
   "cell_type": "code",
   "execution_count": 7,
   "metadata": {},
   "outputs": [],
   "source": [
    "def trapezoid(y_array,x_array):\n",
    "    total = np.sum((x_array[1:]-x_array[:-1])*(y_array[1:]+y_array[:-1])/2)\n",
    "    return total\n",
    "meaned = trapezoid(yyy[:-2],xx)\n",
    "maxed = trapezoid(yy[:-2],x)"
   ]
  },
  {
   "cell_type": "code",
   "execution_count": 8,
   "metadata": {},
   "outputs": [
    {
     "name": "stdout",
     "output_type": "stream",
     "text": [
      "0.6958903616045968 0.6959038790467796 0.9999805757050797\n"
     ]
    }
   ],
   "source": [
    "print(meaned,maxed,meaned/maxed)"
   ]
  },
  {
   "cell_type": "code",
   "execution_count": 9,
   "metadata": {},
   "outputs": [],
   "source": [
    "original = trapezoid(aaa['fe'][200],aaa['e'][200])"
   ]
  },
  {
   "cell_type": "code",
   "execution_count": 10,
   "metadata": {},
   "outputs": [
    {
     "name": "stdout",
     "output_type": "stream",
     "text": [
      "0.6957882308749997 1.0001467842154625\n"
     ]
    }
   ],
   "source": [
    "print(original,meaned/original)"
   ]
  },
  {
   "cell_type": "code",
   "execution_count": 11,
   "metadata": {},
   "outputs": [
    {
     "name": "stdout",
     "output_type": "stream",
     "text": [
      "1.0001662117389287\n"
     ]
    }
   ],
   "source": [
    "print(maxed/original)"
   ]
  },
  {
   "cell_type": "code",
   "execution_count": 12,
   "metadata": {},
   "outputs": [],
   "source": [
    "x=np.linspace(0,343,344)\n",
    "ratio_mean=np.zeros(len(x))\n",
    "ratio_max=np.zeros(len(x))\n",
    "for i in range(len(aaa['e'])):\n",
    "    eps = aaa['e'][i]\n",
    "    y = np.zeros(len(eps)+2)\n",
    "    y[:len(eps)]=aaa['fe'][i]\n",
    "    y[-1]=aaa['temp'][i]\n",
    "    y[-2]=aaa['time'][i]\n",
    "    y_new,e = cv.simple_spread_eps(y,eps)\n",
    "    y_maxed,e = cvv.simple_spread_eps(y,eps)\n",
    "    y_trap = trapezoid(y_new[:-2],e)\n",
    "    y_trap_max = trapezoid(y_maxed[:-2],e)\n",
    "    ratio_mean[i]=y_trap/original\n",
    "    ratio_max[i]=y_trap_max/original"
   ]
  },
  {
   "cell_type": "code",
   "execution_count": 13,
   "metadata": {},
   "outputs": [
    {
     "data": {
      "text/plain": [
       "<Figure size 432x288 with 0 Axes>"
      ]
     },
     "execution_count": 13,
     "metadata": {},
     "output_type": "execute_result"
    },
    {
     "data": {
      "image/png": "[encoded data removed]",
      "text/plain": [
       "<Figure size 432x288 with 1 Axes>"
      ]
     },
     "metadata": {
      "needs_background": "light"
     },
     "output_type": "display_data"
    },
    {
     "data": {
      "text/plain": [
       "<Figure size 432x288 with 0 Axes>"
      ]
     },
     "metadata": {},
     "output_type": "display_data"
    }
   ],
   "source": [
    "plt.figure()\n",
    "plt.plot(x,ratio_mean)\n",
    "plt.plot(x,ratio_max)\n",
    "#plt.xlim(50,150)\n",
    "#plt.ylim(1,1.011)\n",
    "plt.figure()"
   ]
  },
  {
   "cell_type": "code",
   "execution_count": null,
   "metadata": {},
   "outputs": [],
   "source": []
  },
  {
   "cell_type": "code",
   "execution_count": 14,
   "metadata": {},
   "outputs": [],
   "source": [
    "\n",
    "def epsilon_tester(l):\n",
    "    eps = aaa['e'][l]\n",
    "    y = np.zeros(len(eps)+2)\n",
    "    y[:len(eps)]=aaa['fe'][l]\n",
    "    y[-1]=aaa['temp'][l]\n",
    "    y[-2]=aaa['time'][l]\n",
    "    y_new,e_new = cv.simple_spread_eps(y,eps)\n",
    "    y_maxed,e_max = cvv.simple_spread_eps(y,eps)\n",
    "    \n",
    "    print(y_new[31:37],y[31:37])\n",
    "    print(e_new[31:37],eps[31:37])\n",
    "    \n",
    "    original = trapezoid(aaa['fe'][l],aaa['e'][l])\n",
    "    y_trap = trapezoid(y_new[:-2],e_new)\n",
    "    y_trap_max = trapezoid(y_maxed[:-2],e_max)\n",
    "    #can print the above integrals if needed...\n",
    "    \n",
    "    plt.figure()\n",
    "    plt.loglog(e_new,y_new[:-2]*e_new**3)\n",
    "    plt.loglog(e_max,y_maxed[:-2]*e_max**3)\n",
    "    plt.loglog(eps,aaa['fe'][l]*eps**3)\n",
    "    #plt.xlim(50,200)\n",
    "    #plt.ylim(10**-7,10**-1)\n",
    "    plt.figure()"
   ]
  },
  {
   "cell_type": "code",
   "execution_count": 15,
   "metadata": {},
   "outputs": [
    {
     "name": "stdout",
     "output_type": "stream",
     "text": [
      "[2.90093996e-05 2.59452315e-05 2.33955913e-05 1.90796169e-05\n",
      " 1.57463710e-05 1.31189189e-05] [2.90093996e-05 2.59452315e-05 2.33085177e-05 2.10200983e-05\n",
      " 1.90194465e-05 1.72594764e-05]\n",
      "[15.5 16.  17.  18.  19.  20. ] [15.5 16.  16.5 17.  17.5 18. ]\n"
     ]
    },
    {
     "data": {
      "image/png": "[encoded data removed]",
      "text/plain": [
       "<Figure size 432x288 with 1 Axes>"
      ]
     },
     "metadata": {
      "needs_background": "light"
     },
     "output_type": "display_data"
    },
    {
     "data": {
      "text/plain": [
       "<Figure size 432x288 with 0 Axes>"
      ]
     },
     "metadata": {},
     "output_type": "display_data"
    }
   ],
   "source": [
    "epsilon_tester(135)"
   ]
  },
  {
   "cell_type": "code",
   "execution_count": 16,
   "metadata": {},
   "outputs": [
    {
     "name": "stdout",
     "output_type": "stream",
     "text": [
      "[5.14939444e-05 4.68013194e-05 4.46070621e-05 3.34656084e-05\n",
      " 2.49438233e-05 1.91782293e-05] [5.14939444e-05 4.68013194e-05 4.63331426e-05 3.89606437e-05\n",
      " 3.31772808e-05 2.85472283e-05]\n",
      "[15.5 16.  18.  20.  22.  24. ] [15.5 16.  17.  18.  19.  20. ]\n"
     ]
    },
    {
     "data": {
      "image/png": "[encoded data removed]",
      "text/plain": [
       "<Figure size 432x288 with 1 Axes>"
      ]
     },
     "metadata": {
      "needs_background": "light"
     },
     "output_type": "display_data"
    },
    {
     "data": {
      "text/plain": [
       "<Figure size 432x288 with 0 Axes>"
      ]
     },
     "metadata": {},
     "output_type": "display_data"
    }
   ],
   "source": [
    "epsilon_tester(183)"
   ]
  },
  {
   "cell_type": "code",
   "execution_count": 17,
   "metadata": {},
   "outputs": [
    {
     "name": "stdout",
     "output_type": "stream",
     "text": [
      "[6.17728151e-05 5.54470454e-05 5.51856069e-05 3.31157606e-05\n",
      " 1.96370231e-05 1.25536172e-05] [6.17728151e-05 5.54470454e-05 6.09517921e-05 4.33917979e-05\n",
      " 3.22169446e-05 2.46373551e-05]\n",
      "[15.5 16.  20.  24.  28.  32. ] [15.5 16.  18.  20.  22.  24. ]\n"
     ]
    },
    {
     "data": {
      "image/png": "[encoded data removed]",
      "text/plain": [
       "<Figure size 432x288 with 1 Axes>"
      ]
     },
     "metadata": {
      "needs_background": "light"
     },
     "output_type": "display_data"
    },
    {
     "data": {
      "text/plain": [
       "<Figure size 432x288 with 0 Axes>"
      ]
     },
     "metadata": {},
     "output_type": "display_data"
    }
   ],
   "source": [
    "epsilon_tester(334)"
   ]
  },
  {
   "cell_type": "code",
   "execution_count": 18,
   "metadata": {},
   "outputs": [
    {
     "name": "stdout",
     "output_type": "stream",
     "text": [
      "[6.18526429e-05 5.55132170e-05 5.52347029e-05 3.31346706e-05\n",
      " 1.96448665e-05 1.25571528e-05] [6.18526429e-05 5.55132170e-05 6.10023964e-05 4.34208017e-05\n",
      " 3.22346017e-05 2.46486772e-05]\n",
      "[15.5 16.  20.  24.  28.  32. ] [15.5 16.  18.  20.  22.  24. ]\n"
     ]
    },
    {
     "data": {
      "image/png": "[encoded data removed]",
      "text/plain": [
       "<Figure size 432x288 with 1 Axes>"
      ]
     },
     "metadata": {
      "needs_background": "light"
     },
     "output_type": "display_data"
    },
    {
     "data": {
      "text/plain": [
       "<Figure size 432x288 with 0 Axes>"
      ]
     },
     "metadata": {},
     "output_type": "display_data"
    }
   ],
   "source": [
    "epsilon_tester(335)"
   ]
  },
  {
   "cell_type": "code",
   "execution_count": 19,
   "metadata": {},
   "outputs": [
    {
     "name": "stdout",
     "output_type": "stream",
     "text": [
      "[1.85959976e-07 1.12798608e-07 7.27856167e-08 2.67802152e-08\n",
      " 9.85331934e-09 3.62535936e-09] [1.85959976e-07 1.12798608e-07 6.84207756e-08 4.15023072e-08\n",
      " 2.51742469e-08 1.52700597e-08]\n",
      "[15.5 16.  17.  18.  19.  20. ] [15.5 16.  16.5 17.  17.5 18. ]\n"
     ]
    },
    {
     "data": {
      "image/png": "[encoded data removed]",
      "text/plain": [
       "<Figure size 432x288 with 1 Axes>"
      ]
     },
     "metadata": {
      "needs_background": "light"
     },
     "output_type": "display_data"
    },
    {
     "data": {
      "text/plain": [
       "<Figure size 432x288 with 0 Axes>"
      ]
     },
     "metadata": {},
     "output_type": "display_data"
    }
   ],
   "source": [
    "epsilon_tester(16)"
   ]
  },
  {
   "cell_type": "code",
   "execution_count": 20,
   "metadata": {},
   "outputs": [],
   "source": [
    "def find_ks(l):\n",
    "    y=aaa['fe'][l]\n",
    "    k=find_breaks(y)\n",
    "    print(k,len(y))"
   ]
  },
  {
   "cell_type": "code",
   "execution_count": 21,
   "metadata": {},
   "outputs": [
    {
     "name": "stdout",
     "output_type": "stream",
     "text": [
      "[ 93. 116. 139.] 184\n",
      "[ 93. 116. 139.] 184\n",
      "[ 93. 116. 139.] 184\n",
      "[ 93. 116. 139.] 184\n",
      "[ 93. 116. 139.] 184\n",
      "[ 93. 116. 139.] 184\n",
      "[ 93. 116. 139.] 184\n",
      "[ 93. 116. 139.] 184\n",
      "[ 93. 116. 139.] 184\n",
      "[ 93. 116. 139.] 184\n",
      "[ 93. 116. 139.] 184\n",
      "[ 93. 116. 139.] 184\n",
      "[ 93. 116. 139.] 184\n",
      "[ 93. 116. 139.] 184\n",
      "[ 93. 116. 139.] 184\n",
      "[ 93. 116. 139.] 184\n",
      "[ 93. 116. 139.] 184\n",
      "[ 93. 116. 139.] 184\n",
      "[ 93. 116. 139.] 184\n",
      "[ 93. 116. 139.] 184\n",
      "[ 93. 116. 139.] 184\n",
      "[ 93. 116. 139.] 184\n",
      "[ 93. 116. 139.] 184\n",
      "[ 93. 116. 139.] 184\n",
      "[ 93. 116. 139.] 184\n",
      "[ 93. 116. 139.] 184\n",
      "[ 93. 116. 139.] 184\n",
      "[ 93. 116. 139.] 184\n",
      "[ 93. 116. 139.] 184\n",
      "[ 93. 116. 139.] 184\n",
      "[ 93. 116. 139.] 184\n",
      "[ 93. 116. 139.] 184\n",
      "[ 93. 116. 139.] 184\n",
      "[ 93. 116. 139.] 184\n",
      "[ 93. 116. 139.] 184\n",
      "[ 93. 116. 139.] 184\n",
      "[ 93. 116. 139.] 184\n",
      "[ 93. 116. 139.] 184\n",
      "[ 93. 116. 139.] 184\n",
      "[ 93. 116. 139.] 184\n",
      "[ 93. 116. 139.] 184\n",
      "[ 93. 116. 139.] 184\n",
      "[ 93. 116. 139.] 184\n",
      "[ 93. 116. 139.] 184\n",
      "[ 93. 116. 139.] 184\n",
      "[ 93. 117. 140.] 184\n",
      "[ 94. 117. 140.] 184\n",
      "[ 95. 118. 141.] 184\n",
      "[ 96. 120. 143.] 184\n",
      "[ 97. 121. 145.] 184\n",
      "[ 99. 124. 148.] 184\n",
      "[101. 126. 152.] 184\n",
      "[103. 129. 155.] 184\n",
      "[105. 132. 159.] 184\n",
      "[108. 135. 163.] 213\n",
      "[110. 138. 167.] 213\n",
      "[112. 141. 171.] 213\n",
      "[115. 145. 175.] 213\n",
      "[118. 148. 179.] 213\n",
      "[122. 153. 185.] 213\n",
      "[126. 157. 190.] 245\n",
      "[128. 160. 194.] 245\n",
      "[132. 165. 200.] 245\n",
      "[136. 169. 204.] 245\n",
      "[140. 173. 210.] 245\n",
      "[144. 179. 217.] 245\n",
      "[148. 184. 222.] 294\n",
      "[151. 188. 227.] 294\n",
      "[156. 195. 234.] 294\n",
      "[160. 199. 240.] 294\n",
      "[164. 205. 246.] 294\n",
      "[169. 211. 253.] 294\n",
      "[174. 217. 261.] 347\n",
      "[178. 223. 268.] 347\n",
      "[183. 230. 276.] 347\n",
      "[188. 235. 283.] 347\n",
      "[193. 242. 292.] 347\n",
      "[198. 249. 300.] 347\n",
      "[203. 256. 309.] 408\n",
      "[208. 262. 316.] 408\n",
      "[212. 268. 324.] 408\n",
      "[219. 277. 335.] 408\n",
      "[224. 283. 343.] 408\n",
      "[231. 292. 354.] 408\n",
      "[236. 299. 362.] 480\n",
      "[241. 306. 371.] 480\n",
      "[247. 314. 381.] 480\n",
      "[254. 323. 391.] 480\n",
      "[260. 330. 401.] 480\n",
      "[266. 339. 411.] 480\n",
      "[272. 347. 422.] 565\n",
      "[279. 357. 434.] 565\n",
      "[285. 364. 443.] 565\n",
      "[292. 373. 454.] 565\n",
      "[299. 383. 467.] 565\n",
      "[306. 392. 478.] 565\n",
      "[313. 401. 489.] 565\n",
      "[320. 411. 500.] 676\n",
      "[329. 422. 514.] 676\n",
      "[336. 431. 525.] 676\n",
      "[343. 440. 536.] 676\n",
      "[350. 449. 547.] 676\n",
      "[358. 459. 560.] 676\n",
      "[366. 470. 573.] 676\n",
      "[373. 479. 585.] 676\n",
      "[383. 492. 600.] 812\n",
      "[390. 501. 611.] 812\n",
      "[398. 511. 623.] 812\n",
      "[407. 523. 638.] 812\n",
      "[414. 532. 649.] 812\n",
      "[422. 541. 661.] 812\n",
      "[431. 553. 675.] 812\n",
      "[439. 564. 688.] 812\n",
      "[448. 575. 702.] 812\n",
      "[456. 586. 715.] 973\n",
      "[465. 598. 730.] 973\n",
      "[473. 608. 742.] 973\n",
      "[482. 620. 758.] 973\n",
      "[492. 632. 773.] 973\n",
      "[500. 643. 786.] 973\n",
      "[509. 655. 801.] 973\n",
      "[517. 665. 814.] 973\n",
      "[526. 677. 829.] 973\n",
      "[534. 688. 841.] 973\n",
      "[543. 699. 856.] 1167\n",
      "[550. 709. 868.] 1167\n",
      "[559. 720. 881.] 1167\n",
      "[566. 730. 894.] 1167\n",
      "[576. 742. 909.] 1167\n",
      "[584. 752. 922.] 1167\n",
      "[592. 764. 936.] 1167\n",
      "[600. 774. 949.] 1167\n",
      "[609. 786. 963.] 1167\n",
      "[620. 800. 981.] 1167\n",
      "[630. 813. 997.] 1167\n",
      "[ 637.  823. 1010.] 1167\n",
      "[340. 434. 529.] 716\n",
      "[344. 440. 536.] 716\n",
      "[348. 445. 542.] 716\n",
      "[353. 451. 550.] 716\n",
      "[357. 456. 556.] 716\n",
      "[361. 462. 563.] 716\n",
      "[366. 468. 571.] 716\n",
      "[370. 474. 578.] 716\n",
      "[376. 481. 587.] 716\n",
      "[381. 489. 596.] 716\n",
      "[387. 496. 606.] 716\n",
      "[393. 504. 615.] 716\n",
      "[399. 512. 625.] 849\n",
      "[405. 519. 634.] 849\n",
      "[412. 528. 645.] 849\n",
      "[418. 537. 656.] 849\n",
      "[425. 546. 667.] 849\n",
      "[432. 555. 678.] 849\n",
      "[439. 564. 690.] 849\n",
      "[446. 573. 701.] 849\n",
      "[452. 582. 712.] 849\n",
      "[459. 591. 723.] 849\n",
      "[467. 602. 737.] 849\n",
      "[474. 611. 748.] 1021\n",
      "[483. 622. 762.] 1021\n",
      "[489. 631. 773.] 1021\n",
      "[498. 642. 787.] 1021\n",
      "[505. 651. 798.] 1021\n",
      "[513. 662. 811.] 1021\n",
      "[521. 672. 824.] 1021\n",
      "[528. 682. 837.] 1021\n",
      "[535. 691. 848.] 1021\n",
      "[543. 702. 861.] 1021\n",
      "[550. 711. 872.] 1021\n",
      "[557. 721. 885.] 1211\n",
      "[564. 730. 896.] 1211\n",
      "[572. 740. 908.] 1211\n",
      "[579. 749. 920.] 1211\n",
      "[586. 759. 933.] 1211\n",
      "[594. 770. 945.] 1211\n",
      "[602. 780. 958.] 1211\n",
      "[608. 789. 969.] 1211\n",
      "[615. 798. 981.] 1211\n",
      "[623. 808. 993.] 1211\n",
      "[ 630.  818. 1005.] 1211\n",
      "[ 638.  828. 1019.] 1211\n",
      "[ 645.  837. 1029.] 1211\n",
      "[ 652.  847. 1041.] 1211\n",
      "[346. 444. 543.] 738\n",
      "[351. 451. 551.] 738\n",
      "[355. 456. 558.] 738\n",
      "[359. 462. 564.] 738\n",
      "[364. 468. 572.] 738\n",
      "[369. 474. 580.] 738\n",
      "[373. 480. 587.] 738\n",
      "[379. 488. 597.] 738\n",
      "[383. 494. 604.] 738\n",
      "[388. 500. 613.] 738\n",
      "[394. 508. 622.] 738\n",
      "[399. 514. 630.] 738\n",
      "[404. 521. 638.] 738\n",
      "[410. 529. 648.] 884\n",
      "[414. 535. 655.] 884\n",
      "[419. 542. 664.] 884\n",
      "[424. 548. 672.] 884\n",
      "[430. 555. 681.] 884\n",
      "[435. 563. 691.] 884\n",
      "[440. 570. 699.] 884\n",
      "[446. 577. 708.] 884\n",
      "[451. 584. 717.] 884\n",
      "[456. 591. 726.] 884\n",
      "[461. 597. 733.] 884\n",
      "[466. 604. 742.] 884\n",
      "[471. 611. 750.] 884\n",
      "[475. 617. 758.] 884\n",
      "[480. 623. 765.] 884\n",
      "[484. 629. 773.] 1060\n",
      "[489. 635. 780.] 1060\n",
      "[492. 639. 786.] 1060\n",
      "[497. 645. 794.] 1060\n",
      "[500. 650. 800.] 1060\n",
      "[505. 656. 807.] 1060\n",
      "[508. 661. 813.] 1060\n",
      "[512. 666. 819.] 1060\n",
      "[517. 672. 827.] 1060\n",
      "[520. 676. 832.] 1060\n",
      "[523. 680. 838.] 1060\n",
      "[527. 685. 844.] 1060\n",
      "[531. 690. 850.] 1060\n",
      "[534. 695. 855.] 1060\n",
      "[538. 699. 861.] 1060\n",
      "[541. 703. 866.] 1060\n",
      "[544. 708. 872.] 1060\n",
      "[547. 712. 877.] 1060\n",
      "[551. 716. 882.] 1060\n",
      "[554. 720. 888.] 1060\n",
      "[557. 724. 892.] 1060\n",
      "[559. 728. 897.] 1060\n",
      "[562. 731. 901.] 1060\n",
      "[565. 735. 906.] 1060\n",
      "[567. 738. 910.] 1060\n",
      "[570. 741. 914.] 1060\n",
      "[572. 744. 918.] 1263\n",
      "[573. 747. 921.] 1263\n",
      "[575. 749. 924.] 1263\n",
      "[577. 752. 927.] 1263\n",
      "[578. 754. 929.] 1263\n",
      "[580. 756. 932.] 1263\n",
      "[581. 758. 935.] 1263\n",
      "[583. 760. 937.] 1263\n",
      "[584. 762. 940.] 1263\n",
      "[585. 763. 942.] 1263\n",
      "[586. 765. 944.] 1263\n",
      "[588. 767. 947.] 1263\n",
      "[589. 769. 949.] 1263\n",
      "[590. 771. 951.] 1263\n",
      "[591. 772. 953.] 1263\n",
      "[592. 774. 956.] 1263\n",
      "[593. 776. 958.] 1263\n",
      "[594. 777. 959.] 1263\n",
      "[595. 778. 961.] 1263\n",
      "[596. 779. 962.] 1263\n",
      "[597. 781. 964.] 1263\n",
      "[598. 782. 966.] 1263\n",
      "[598. 783. 967.] 1263\n",
      "[599. 784. 968.] 1263\n",
      "[600. 785. 970.] 1263\n",
      "[601. 786. 971.] 1263\n",
      "[602. 787. 972.] 1263\n",
      "[603. 788. 973.] 1263\n",
      "[604. 789. 975.] 1263\n",
      "[604. 790. 976.] 1263\n",
      "[605. 791. 977.] 1263\n",
      "[606. 792. 978.] 1263\n",
      "[607. 793. 979.] 1263\n",
      "[607. 794. 980.] 1263\n",
      "[608. 795. 981.] 1263\n",
      "[608. 795. 982.] 1263\n",
      "[609. 796. 983.] 1263\n",
      "[610. 797. 984.] 1263\n",
      "[610. 797. 984.] 1263\n",
      "[610. 798. 985.] 1263\n",
      "[611. 798. 986.] 1263\n",
      "[611. 799. 986.] 1263\n",
      "[612. 799. 987.] 1263\n",
      "[612. 800. 988.] 1263\n",
      "[612. 800. 988.] 1263\n",
      "[613. 801. 989.] 1263\n",
      "[613. 801. 990.] 1263\n",
      "[613. 802. 990.] 1263\n",
      "[614. 802. 991.] 1263\n",
      "[614. 802. 991.] 1263\n",
      "[614. 803. 992.] 1263\n",
      "[614. 803. 992.] 1263\n",
      "[615. 803. 993.] 1263\n",
      "[615. 804. 993.] 1263\n",
      "[615. 804. 994.] 1263\n",
      "[615. 804. 994.] 1263\n",
      "[615. 805. 994.] 1263\n",
      "[615. 805. 995.] 1263\n",
      "[615. 805. 995.] 1263\n",
      "[616. 805. 995.] 1263\n",
      "[616. 805. 996.] 1263\n",
      "[616. 806. 996.] 1263\n",
      "[616. 806. 996.] 1263\n",
      "[616. 806. 996.] 1263\n",
      "[617. 806. 997.] 1263\n",
      "[617. 806. 997.] 1263\n",
      "[617. 806. 997.] 1263\n",
      "[617. 807. 997.] 1263\n",
      "[617. 807. 998.] 1263\n",
      "[617. 807. 998.] 1263\n",
      "[617. 807. 998.] 1263\n",
      "[617. 807. 998.] 1263\n",
      "[617. 807. 998.] 1263\n",
      "[617. 807. 998.] 1263\n",
      "[617. 807. 998.] 1263\n",
      "[617. 807. 998.] 1263\n",
      "[617. 807. 998.] 1379\n",
      "[617. 807. 998.] 1379\n",
      "[617. 807. 998.] 1379\n",
      "[617. 807. 998.] 1379\n",
      "[617. 807. 997.] 1379\n",
      "[616. 807. 997.] 1379\n",
      "[616. 806. 997.] 1379\n",
      "[616. 806. 997.] 1379\n",
      "[616. 806. 997.] 1379\n",
      "[616. 806. 997.] 1379\n",
      "[616. 806. 997.] 1379\n",
      "[616. 806. 996.] 1379\n",
      "[616. 806. 996.] 1379\n",
      "[615. 805. 996.] 1379\n",
      "[615. 805. 996.] 1379\n",
      "[615. 805. 996.] 1379\n",
      "[615. 805. 996.] 1379\n",
      "[615. 805. 996.] 1379\n",
      "[615. 805. 995.] 1379\n",
      "[615. 805. 995.] 1379\n",
      "[615. 805. 995.] 1379\n",
      "[614. 804. 995.] 1374\n",
      "[613. 803. 994.] 1372\n",
      "[613. 803. 994.] 1373\n",
      "[613. 803. 994.] 1373\n",
      "[613. 803. 994.] 1373\n",
      "[613. 803. 994.] 1373\n",
      "[613. 803. 994.] 1373\n",
      "[613. 803. 994.] 1373\n",
      "[613. 803. 994.] 1373\n"
     ]
    }
   ],
   "source": [
    "for i in range(len(aaa['e'])):\n",
    "    find_ks(i)"
   ]
  },
  {
   "cell_type": "code",
   "execution_count": 22,
   "metadata": {},
   "outputs": [],
   "source": [
    "\n",
    "@nb.jit(nopython=True)\n",
    "# Note: j is an index, not a p-value\n",
    "def C_round(j,f1,p):\n",
    "    c,c_frs = coll.cI(j,f1,p)\n",
    "    if abs(c/c_frs) < 3e-15:\n",
    "        return 0\n",
    "    else:\n",
    "        return c\n",
    "\n",
    "\n",
    "@nb.jit(nopython=True)\n",
    "def smallgrid(p,f,k0,k1):\n",
    "    boxsize = p[-1] - p[-2]\n",
    "    p_small_boxsize = p[1] - p[0]\n",
    "#    print(int(1.25*k0), p[int(k1)-1], p_small_boxsize,len(p),k1)\n",
    "    N = max(int(np.round(p[int(k1)-1]/p_small_boxsize,0))+1, int(1.25*k0))\n",
    "    p_small = np.zeros(N)\n",
    "    f_small = np.zeros(N)\n",
    "    \n",
    "    x_int = np.zeros(6)\n",
    "    y_int = np.zeros(6)\n",
    "    \n",
    "    for i in range(num_small_boxes):\n",
    "        p_small[i] = p[i]\n",
    "        f_small[i] = f[i]\n",
    "    for i in range(num_small_boxes,N):\n",
    "        p_small[i] = i * p_small_boxsize\n",
    "        k = int(np.round((p_small[i]-p[num_small_boxes-1])/boxsize,0)) + num_small_boxes - 1\n",
    "        if np.round((p_small[i] - p[num_small_boxes-1]) / boxsize, 5) % 1 == 0:\n",
    "#        if (p_small[i] - p[num_small_boxes-1]) % boxsize == 0:\n",
    "            f_small[i] = f[k]\n",
    "        else:\n",
    "            if k+3 < len(p):\n",
    "                for j in range(6):\n",
    "                    x_int[j] = p[k + j - 2]\n",
    "                    y_int[j] = f[k + j - 2]\n",
    "                    if y_int[j] < 0:\n",
    "                        print (\"smallgrid\",x_int[j], y_int[j])\n",
    "                        print (k+j-2, k0, k1)\n",
    "                        print (\"f = \", f)\n",
    "            else:\n",
    "                x_int[:] = p[-6:]\n",
    "                y_int[:] = f[-6:]\n",
    "            f_small[i] = np.exp(interp.lin_int(p_small[i],x_int,np.log(y_int)))\n",
    "    return p_small, f_small\n",
    "\n",
    "@nb.jit(nopython=True)\n",
    "def biggrid(p,f,k1):\n",
    "    boxsize = p[-1] - p[-2]\n",
    "    p_small_boxsize = p[1] - p[0]\n",
    "    new_small_boxes = int(np.round(p[num_small_boxes-1]/boxsize,0)) + 1\n",
    "    N = new_small_boxes + int(k1 - num_small_boxes)\n",
    "    \n",
    "    p_big = np.zeros(N)\n",
    "    f_big = np.zeros(N)\n",
    "    \n",
    "    mult = int(round(boxsize/p_small_boxsize,0))\n",
    "#    print(mult, new_small_boxes, N)\n",
    "    p_big[0] = p[0]\n",
    "    f_big[0] = f[0]\n",
    "    for i in range(1,new_small_boxes):\n",
    "        p_big[i] = p[mult * i]\n",
    "        f_big[i] = np.max(f[mult*(i-1)+1:mult*i+1])\n",
    "    for i in range(new_small_boxes, N):\n",
    "        p_big[i] = p[num_small_boxes + (i-new_small_boxes)]\n",
    "        f_big[i] = f[num_small_boxes + (i-new_small_boxes)]\n",
    "        \n",
    "    return p_big, f_big"
   ]
  },
  {
   "cell_type": "code",
   "execution_count": 23,
   "metadata": {},
   "outputs": [],
   "source": [
    "def C_short(p,f1,T,k):\n",
    "    c = np.zeros(len(p))\n",
    "    boxsize = p[-1] - p[-2]\n",
    "\n",
    "    if k[0] == 0:\n",
    "        p_smallgrid, f_smallgrid = smallgrid(p,f1,num_small_boxes,len(p))\n",
    "        p_wholegrid, f_wholegrid = biggrid(p,f1,len(p))\n",
    "        for i in nb.prange(1,len(p)-1):\n",
    " #       for i in range(1,len(p)-1):\n",
    "            if i < num_small_boxes:\n",
    "                c[i] = C_round(i, f_smallgrid, p_smallgrid)\n",
    "            else:\n",
    "                c[i] = C_round((i-num_small_boxes)*2 + num_small_boxes , f_smallgrid, p_smallgrid)\n",
    " #               c[i] = C_round(i-num_small_boxes+1+int(eps_small_box/boxsize),f_wholegrid,p_wholegrid)\n",
    "    else:\n",
    "        k0 = num_small_boxes\n",
    "#        print(k0, k[1], k[2], len(p))\n",
    "        p_smallgrid, f_smallgrid = smallgrid(p,f1,k0,k[1])\n",
    "        p_biggrid, f_biggrid = biggrid(p,f1,k[2])\n",
    "        p_wholegrid, f_wholegrid = biggrid(p,f1,len(p))\n",
    "#        print(p_biggrid)\n",
    "#        for i in range(1,len(p)-1):\n",
    "        for i in nb.prange(1,len(p)-1):\n",
    "            if i < k0:\n",
    "                c[i] = C_round(i, f_smallgrid, p_smallgrid)\n",
    "                \n",
    "    #            c[i] = C_round(i,f1[:k[1]],p[:k[1]])\n",
    "    #            c[i] += ve.cI(i, f1[:k[1]],p[:k[1]],T)\n",
    "            elif i < k[1]:\n",
    "                c[i] = C_round(i-num_small_boxes+1+int(np.round(p[num_small_boxes-1]/boxsize,0)), f_biggrid, p_biggrid)\n",
    "                \n",
    "    #            c[i] = C_round(i,f1[:k[2]],p[:k[2]])\n",
    "    #            c[i] += ve.cI(i, f1[:k[2]],p[:k[2]],T)\n",
    "            else:\n",
    "                c[i] = C_round(i-num_small_boxes+1+int(np.round(p[num_small_boxes-1]/boxsize,0)),f_wholegrid,p_wholegrid)\n",
    "                \n",
    "    #            c[i] += ve.cI(i,f1,p,T)\n",
    "    \n",
    "    print('k=',k)\n",
    "    print('y length=',len(f1))\n",
    "    #print('smallgrid y=',f_smallgrid)\n",
    "    #print('small ticks =',p_smallgrid)\n",
    "    #print('biggrid y=',f_biggrid)\n",
    "    #print('big ticks =',p_biggrid)\n",
    "    #print('wholegrid y=',f_wholegrid)\n",
    "    #print('whole ticks =',p_wholegrid)\n",
    "    return c,p_smallgrid,f_smallgrid,p_biggrid,f_biggrid,p_wholegrid,f_wholegrid\n",
    "\n"
   ]
  },
  {
   "cell_type": "code",
   "execution_count": 24,
   "metadata": {},
   "outputs": [
    {
     "data": {
      "text/plain": [
       "['mass',\n",
       " 'mixing',\n",
       " 'lifetime',\n",
       " 'neff',\n",
       " 'scalefactors',\n",
       " 'time',\n",
       " 'temp',\n",
       " 'Tcm',\n",
       " 'e',\n",
       " 'fe',\n",
       " 'NumbDensityDist',\n",
       " 'decayrate',\n",
       " 'collisionrate',\n",
       " 'n_p_rate',\n",
       " 'p_n_rate']"
      ]
     },
     "execution_count": 24,
     "metadata": {},
     "output_type": "execute_result"
    }
   ],
   "source": [
    "aaa.files\n"
   ]
  },
  {
   "cell_type": "code",
   "execution_count": 25,
   "metadata": {},
   "outputs": [],
   "source": [
    "def map_grids(step):\n",
    "    y_test=aaa['fe'][step]\n",
    "    a = aaa['scalefactors'][step]\n",
    "\n",
    "    Tcm = 1/a #We mult this to e_array for p input in C_short??\n",
    "    T=aaa['temp'][step]\n",
    "    e_array=aaa['e'][step]\n",
    "    time=aaa['time'][step]\n",
    "\n",
    "    k_test=find_breaks(y_test)\n",
    "    c,p_small,f_small,p_big,f_big,p_whole,f_whole=C_short(e_array,y_test,T,k_test)\n",
    "    \n",
    "    \n",
    "    plt.figure()\n",
    "    plt.loglog(p_small,f_small)\n",
    "    plt.loglog(p_big,f_big,color='k')\n",
    "    plt.loglog(p_whole,f_whole,color='r')\n",
    "    #plt.xlim(1,100)\n",
    "    #plt.ylim(10**-7,10**-1)\n",
    "    plt.figure()"
   ]
  },
  {
   "cell_type": "code",
   "execution_count": 26,
   "metadata": {},
   "outputs": [
    {
     "name": "stdout",
     "output_type": "stream",
     "text": [
      "k= [343. 440. 536.]\n",
      "y length= 676\n"
     ]
    },
    {
     "data": {
      "image/png": "[encoded data removed]",
      "text/plain": [
       "<Figure size 432x288 with 1 Axes>"
      ]
     },
     "metadata": {
      "needs_background": "light"
     },
     "output_type": "display_data"
    },
    {
     "data": {
      "text/plain": [
       "<Figure size 432x288 with 0 Axes>"
      ]
     },
     "metadata": {},
     "output_type": "display_data"
    }
   ],
   "source": [
    "map_grids(100)"
   ]
  },
  {
   "cell_type": "code",
   "execution_count": 27,
   "metadata": {},
   "outputs": [],
   "source": [
    "def short_compar(step):\n",
    "    e=aaa['e'][step]\n",
    "    f=aaa['fe'][step]\n",
    "    \n",
    "    ms=aaa['mass']\n",
    "    EB5 = ms/2\n",
    "    EB2 = (ms**2 - mpi_neutral**2)/(2*ms)\n",
    "    a0=aaa['scalefactors'][step]\n",
    "    \n",
    "    spread_f,spread_e=cv.simple_spread_eps(f,e)\n",
    "    T=aaa['temp'][step]\n",
    "    \n",
    "    E5_index = np.where(e < EB5 * a0)[0][-1]\n",
    "    E2_index = np.where(e < EB2 * a0)[0][-1]\n",
    "    k_test=find_breaks(f,E5_index,E2_index)\n",
    "    c,p_small,f_small,p_big,f_big,p_whole,f_whole=C_short(e,f,T,k_test)\n",
    "    \n",
    "    E5_index_sp = np.where(spread_e < EB5 * a0)[0][-1]\n",
    "    E2_index_sp = np.where(spread_e < EB2 * a0)[0][-1]\n",
    "    k_test_sp=find_breaks(spread_f,E5_index_sp,E2_index_sp)\n",
    "    ci,p_small_sp,f_small_sp,p_big_sp,f_big_sp,p_whole_sp,f_whole_sp=C_short(spread_e,spread_f,T,k_test_sp)\n",
    "    \n",
    "    plt.figure()\n",
    "    plt.plot(p_small,f_small)\n",
    "    plt.plot(p_small_sp,f_small_sp,color='k')\n",
    "    plt.yscale('log')\n",
    "    plt.xlim(18,27)\n",
    "    plt.ylim(10**-13,10**-3)\n",
    "    plt.figure()\n",
    "    \n",
    "    plt.figure()\n",
    "    plt.plot(p_big,f_big)\n",
    "    plt.plot(p_big_sp,f_big_sp,color='k')\n",
    "    plt.yscale('log')\n",
    "    plt.figure()\n",
    "    \n",
    "    plt.figure()\n",
    "    plt.plot(p_whole,f_whole)\n",
    "    plt.plot(p_whole_sp,f_whole_sp,color='k')\n",
    "    plt.yscale('log')\n",
    "    plt.figure()\n",
    "    \n",
    "    print('EB5 index=',E5_index)\n",
    "    print('EB2 index=',E2_index)\n",
    "    print('spread EB5 index=',E5_index_sp)\n",
    "    print('spread EB2 index=',E2_index_sp)\n",
    "    \n",
    "    \n",
    "    print('e array zoomed=',p_small[35:60])\n",
    "    print('f array zoomed=',f_small[35:60])\n",
    "    print('e array sperad=',p_small_sp[35:60])\n",
    "    print('f array spread=',f_small_sp[35:60])\n",
    "    print('spread f/f=',f_small_sp[35:60]/f_small[35:60])\n",
    "    \n",
    "    plt.figure()\n",
    "    plt.plot(e,c)\n",
    "    plt.plot(spread_e,ci,color='r')\n",
    "    plt.yscale('log')\n",
    "    plt.xscale('log')\n",
    "    plt.show()"
   ]
  },
  {
   "cell_type": "code",
   "execution_count": null,
   "metadata": {},
   "outputs": [],
   "source": []
  },
  {
   "cell_type": "code",
   "execution_count": 28,
   "metadata": {},
   "outputs": [
    {
     "data": {
      "application/vnd.jupyter.widget-view+json": {
       "model_id": "6460b4db765340ca998ae6249863ac0f",
       "version_major": 2,
       "version_minor": 0
      },
      "text/plain": [
       "interactive(children=(IntSlider(value=50, description='step', max=60, min=40), Output()), _dom_classes=('widge…"
      ]
     },
     "metadata": {},
     "output_type": "display_data"
    },
    {
     "data": {
      "text/plain": [
       "<function __main__.short_compar(step)>"
      ]
     },
     "execution_count": 28,
     "metadata": {},
     "output_type": "execute_result"
    }
   ],
   "source": [
    "widgets.interact(short_compar, step=(40,60,1))"
   ]
  },
  {
   "cell_type": "code",
   "execution_count": 29,
   "metadata": {},
   "outputs": [
    {
     "data": {
      "application/vnd.jupyter.widget-view+json": {
       "model_id": "a3370925a78148d0bb28207978bb3f03",
       "version_major": 2,
       "version_minor": 0
      },
      "text/plain": [
       "interactive(children=(IntSlider(value=168, description='step', max=343, step=8), Output()), _dom_classes=('wid…"
      ]
     },
     "metadata": {},
     "output_type": "display_data"
    },
    {
     "data": {
      "text/plain": [
       "<function __main__.short_compar(step)>"
      ]
     },
     "execution_count": 29,
     "metadata": {},
     "output_type": "execute_result"
    }
   ],
   "source": [
    "widgets.interact(short_compar, step=(0,343,8))"
   ]
  },
  {
   "cell_type": "code",
   "execution_count": 30,
   "metadata": {},
   "outputs": [],
   "source": [
    "def collision_compar(step):\n",
    "    e=aaa['e'][step]\n",
    "    f=aaa['fe'][step]\n",
    "    \n",
    "    ms=aaa['mass']\n",
    "    EB5 = ms/2\n",
    "    EB2 = (ms**2 - mpi_neutral**2)/(2*ms)\n",
    "    a0=aaa['scalefactors'][step]\n",
    "    \n",
    "    spread_f,spread_e=cv.simple_spread_eps(f,e)\n",
    "    T=aaa['temp'][step]\n",
    "    \n",
    "    E5_index = np.where(e < EB5 * a0)[0][-1]\n",
    "    E2_index = np.where(e < EB2 * a0)[0][-1]\n",
    "    k_test=find_breaks(f,E5_index,E2_index)\n",
    "    c,p_small,f_small,p_big,f_big,p_whole,f_whole=C_short(e,f,T,k_test)\n",
    "    \n",
    "    E5_index_sp = np.where(spread_e < EB5 * a0)[0][-1]\n",
    "    E2_index_sp = np.where(spread_e < EB2 * a0)[0][-1]\n",
    "    k_test_sp=find_breaks(spread_f,E5_index_sp,E2_index_sp)\n",
    "    ci,p_small_sp,f_small_sp,p_big_sp,f_big_sp,p_whole_sp,f_whole_sp=C_short(spread_e,spread_f,T,k_test_sp)\n",
    "    \n",
    "    c_straight=np.zeros(len(e))\n",
    "    for i in nb.prange(1,len(e)-1):\n",
    "            c_straight[i] = C_round(i, f, e)\n",
    "    \n",
    "    plt.figure()\n",
    "    plt.plot(e,c_straight)\n",
    "    plt.plot(e,c,color='k')\n",
    "    plt.plot(spread_e,ci,color='r')\n",
    "    plt.yscale('log')\n",
    "    plt.xscale('log')\n",
    "    plt.show()\n",
    "    \n",
    "    plt.figure()\n",
    "    plt.loglog(e,c_straight,'o')\n",
    "    plt.show()\n",
    "    \n",
    "    plt.figure()\n",
    "    plt.loglog(e,c,color='k')\n",
    "    plt.show()\n",
    "    \n",
    "    plt.figure()\n",
    "    plt.loglog(spread_e,ci,color='r')\n",
    "    plt.show()"
   ]
  },
  {
   "cell_type": "code",
   "execution_count": 31,
   "metadata": {},
   "outputs": [
    {
     "data": {
      "application/vnd.jupyter.widget-view+json": {
       "model_id": "0111c61e104840f3a97c18c1f3d1ebdb",
       "version_major": 2,
       "version_minor": 0
      },
      "text/plain": [
       "interactive(children=(IntSlider(value=168, description='step', max=343, step=8), Output()), _dom_classes=('wid…"
      ]
     },
     "metadata": {},
     "output_type": "display_data"
    },
    {
     "data": {
      "text/plain": [
       "<function __main__.collision_compar(step)>"
      ]
     },
     "execution_count": 31,
     "metadata": {},
     "output_type": "execute_result"
    }
   ],
   "source": [
    "widgets.interact(collision_compar, step=(0,343,8))"
   ]
  },
  {
   "cell_type": "code",
   "execution_count": 32,
   "metadata": {},
   "outputs": [
    {
     "name": "stdout",
     "output_type": "stream",
     "text": [
      "k= [126. 157. 190.]\n",
      "y length= 245\n",
      "k= [ 80.  95. 112.]\n",
      "y length= 141\n"
     ]
    },
    {
     "data": {
      "image/png": "[encoded data removed]",
      "text/plain": [
       "<Figure size 432x288 with 1 Axes>"
      ]
     },
     "metadata": {
      "needs_background": "light"
     },
     "output_type": "display_data"
    },
    {
     "data": {
      "image/png": "[encoded data removed]",
      "text/plain": [
       "<Figure size 432x288 with 1 Axes>"
      ]
     },
     "metadata": {
      "needs_background": "light"
     },
     "output_type": "display_data"
    },
    {
     "data": {
      "image/png": "[encoded data removed]",
      "text/plain": [
       "<Figure size 432x288 with 1 Axes>"
      ]
     },
     "metadata": {
      "needs_background": "light"
     },
     "output_type": "display_data"
    },
    {
     "data": {
      "image/png": "[encoded data removed]",
      "text/plain": [
       "<Figure size 432x288 with 1 Axes>"
      ]
     },
     "metadata": {
      "needs_background": "light"
     },
     "output_type": "display_data"
    }
   ],
   "source": [
    "collision_compar(60)"
   ]
  },
  {
   "cell_type": "code",
   "execution_count": 39,
   "metadata": {},
   "outputs": [],
   "source": [
    "def grid_compar(step):\n",
    "    e=aaa['e'][step]\n",
    "    f=aaa['fe'][step]\n",
    "    \n",
    "    ms=aaa['mass']\n",
    "    EB5 = ms/2\n",
    "    EB2 = (ms**2 - mpi_neutral**2)/(2*ms)\n",
    "    a0=aaa['scalefactors'][step]\n",
    "    \n",
    "    spread_f,spread_e=cv.simple_spread_eps(f,e)\n",
    "    T=aaa['temp'][step]\n",
    "    \n",
    "    E5_index = np.where(e < EB5 * a0)[0][-1]\n",
    "    E2_index = np.where(e < EB2 * a0)[0][-1]\n",
    "    k_test=find_breaks(f,E5_index,E2_index)\n",
    "    c,p_small,f_small,p_big,f_big,p_whole,f_whole=C_short(e,f,T,k_test)\n",
    "    \n",
    "    E5_index_sp = np.where(spread_e < EB5 * a0)[0][-1]\n",
    "    E2_index_sp = np.where(spread_e < EB2 * a0)[0][-1]\n",
    "    k_test_sp=find_breaks(spread_f,E5_index_sp,E2_index_sp)\n",
    "    ci,p_small_sp,f_small_sp,p_big_sp,f_big_sp,p_whole_sp,f_whole_sp=C_short(spread_e,spread_f,T,k_test_sp)\n",
    "    \n",
    "    c_straight=np.zeros(len(e))\n",
    "    for i in nb.prange(1,len(e)-1):\n",
    "            c_straight[i] = C_round(i, f, e)\n",
    "            \n",
    "    c_small=np.zeros(len(p_small))\n",
    "    for i in nb.prange(1,len(p_small)-1):\n",
    "            c_small[i] = C_round(i, f_small, p_small)\n",
    "    c_big=np.zeros(len(p_big))\n",
    "    for i in nb.prange(1,len(p_big)-1):\n",
    "            c_big[i] = C_round(i, f_big, p_big)\n",
    "    c_whole=np.zeros(len(p_whole))\n",
    "    for i in nb.prange(1,len(p_whole)-1):\n",
    "            c_whole[i] = C_round(i, f_whole, p_whole)\n",
    "    \n",
    "    c_small_sp=np.zeros(len(p_small_sp))\n",
    "    for i in nb.prange(1,len(p_small_sp)-1):\n",
    "            c_small_sp[i] = C_round(i, f_small_sp, p_small_sp)\n",
    "    c_big_sp=np.zeros(len(p_big_sp))\n",
    "    for i in nb.prange(1,len(p_big_sp)-1):\n",
    "            c_big_sp[i] = C_round(i, f_big_sp, p_big_sp)\n",
    "    c_whole_sp=np.zeros(len(p_whole_sp))\n",
    "    for i in nb.prange(1,len(p_whole_sp)-1):\n",
    "            c_whole_sp[i] = C_round(i, f_whole_sp, p_whole_sp)\n",
    "    \n",
    "    \n",
    "    plt.figure()\n",
    "    plt.loglog(e,c_straight)\n",
    "    plt.show()\n",
    "    \n",
    "    plt.figure()\n",
    "    plt.loglog(p_small,c_small)\n",
    "    plt.show()\n",
    "    \n",
    "    plt.figure()\n",
    "    plt.loglog(p_big,c_big)\n",
    "    plt.show()\n",
    "    \n",
    "    plt.figure()\n",
    "    plt.loglog(p_whole,c_whole)\n",
    "    plt.show()\n",
    "    \n",
    "    plt.figure()\n",
    "    plt.loglog(p_small_sp,c_small_sp)\n",
    "    plt.show()\n",
    "    \n",
    "    plt.figure()\n",
    "    plt.loglog(p_big_sp,c_big_sp)\n",
    "    plt.show()\n",
    "    \n",
    "    plt.figure()\n",
    "    plt.loglog(p_whole_sp,c_whole_sp)\n",
    "    plt.show()"
   ]
  },
  {
   "cell_type": "code",
   "execution_count": 40,
   "metadata": {},
   "outputs": [
    {
     "name": "stdout",
     "output_type": "stream",
     "text": [
      "k= [126. 157. 190.]\n",
      "y length= 245\n",
      "k= [ 80.  95. 112.]\n",
      "y length= 141\n"
     ]
    },
    {
     "data": {
      "image/png": "[encoded data removed]",
      "text/plain": [
       "<Figure size 432x288 with 1 Axes>"
      ]
     },
     "metadata": {
      "needs_background": "light"
     },
     "output_type": "display_data"
    },
    {
     "data": {
      "image/png": "[encoded data removed]",
      "text/plain": [
       "<Figure size 432x288 with 1 Axes>"
      ]
     },
     "metadata": {
      "needs_background": "light"
     },
     "output_type": "display_data"
    },
    {
     "data": {
      "image/png": "[encoded data removed]",
      "text/plain": [
       "<Figure size 432x288 with 1 Axes>"
      ]
     },
     "metadata": {
      "needs_background": "light"
     },
     "output_type": "display_data"
    },
    {
     "data": {
      "image/png": "[encoded data removed]",
      "text/plain": [
       "<Figure size 432x288 with 1 Axes>"
      ]
     },
     "metadata": {
      "needs_background": "light"
     },
     "output_type": "display_data"
    },
    {
     "data": {
      "image/png": "[encoded data removed]",
      "text/plain": [
       "<Figure size 432x288 with 1 Axes>"
      ]
     },
     "metadata": {
      "needs_background": "light"
     },
     "output_type": "display_data"
    },
    {
     "data": {
      "image/png": "[encoded data removed]",
      "text/plain": [
       "<Figure size 432x288 with 1 Axes>"
      ]
     },
     "metadata": {
      "needs_background": "light"
     },
     "output_type": "display_data"
    },
    {
     "data": {
      "image/png": "[encoded data removed]",
      "text/plain": [
       "<Figure size 432x288 with 1 Axes>"
      ]
     },
     "metadata": {
      "needs_background": "light"
     },
     "output_type": "display_data"
    }
   ],
   "source": [
    "grid_compar(60)"
   ]
  },
  {
   "cell_type": "code",
   "execution_count": null,
   "metadata": {},
   "outputs": [],
   "source": []
  }
 ],
 "metadata": {
  "kernelspec": {
   "display_name": "Python 3",
   "language": "python",
   "name": "python3"
  },
  "language_info": {
   "codemirror_mode": {
    "name": "ipython",
    "version": 3
   },
   "file_extension": ".py",
   "mimetype": "text/x-python",
   "name": "python",
   "nbconvert_exporter": "python",
   "pygments_lexer": "ipython3",
   "version": "3.7.6"
  }
 },
 "nbformat": 4,
 "nbformat_minor": 4
}
