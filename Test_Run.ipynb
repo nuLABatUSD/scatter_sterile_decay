{
 "cells": [
  {
   "cell_type": "code",
   "execution_count": 16,
   "metadata": {},
   "outputs": [],
   "source": [
    "import ODESolve\n",
    "import numba as nb\n",
    "import numpy as np\n",
    "import derivatives as der\n",
    "import interp\n",
    "import simp_spreading as cv\n",
    "import coll_varbins as cvv\n",
    "import Collision_approx as ca\n",
    "import os\n",
    "import shutil\n",
    "import RunSterileDecay as RSD\n",
    "import matplotlib.pyplot as plt\n",
    "\n",
    "from Constants import mpi_neutral\n",
    "\n",
    "from var_param import f_TINY, f_MINI, f_SMALL, f_BUFFER, MIN_eps_BUFFER, a_MAXMULT, eps_small_MAX, len_y_MAX, small_boxsize, eps_small_box, num_small_boxes, initial_boxsize\n",
    "\n",
    "\n",
    "@nb.njit()\n",
    "def infl(k):\n",
    "    return int(np.round(k,0))\n",
    "\n",
    "@nb.njit()\n",
    "def find_breaks(f, E5_index = 0, E2_index = 0):\n",
    "    k = np.ones(3) * (len(f) - 1)\n",
    "    \n",
    "    if (len(np.where(f < f_TINY)[0]) > 0):\n",
    "        k[0] = np.where(f < f_TINY)[0][0]\n",
    "    if (len(np.where(f < f_MINI)[0]) > 0):\n",
    "        k[1] = np.where(f < f_MINI)[0][0]\n",
    "    if (len(np.where(f < f_SMALL)[0]) > 0):\n",
    "        k[2] = np.where(f < f_SMALL)[0][0]\n",
    "    \n",
    "    for i in range(infl(k[0]), len(f)):\n",
    "        if f[i] > f_TINY:\n",
    "            k[0] = i+1\n",
    "    for i in range(infl(k[1]), len(f)):\n",
    "        if f[i] > f_MINI:\n",
    "            k[1] = i+1\n",
    "    for i in range(infl(k[2]),len(f)):\n",
    "        if f[i] > f_SMALL:\n",
    "            k[2] = i+1\n",
    "\n",
    "    for j in range(3):\n",
    "        for i in [E5_index, E2_index]:\n",
    "            if i - MIN_eps_BUFFER < k[j] <= i:\n",
    "                k[j] += 2 * MIN_eps_BUFFER\n",
    "            if i <= k[j] < i + MIN_eps_BUFFER:\n",
    "                k[j] += MIN_eps_BUFFER\n",
    "        for jj in range(j+1,3):\n",
    "            if k[jj] < k[j] + MIN_eps_BUFFER:\n",
    "                k[jj] = k[j] + MIN_eps_BUFFER\n",
    "        if k[j] >= len(f):\n",
    "            k[j] = len(f) - 1\n",
    "    return k\n",
    "\n",
    "@nb.njit()\n",
    "def make_p(a0, eps, f, p_fix, A_model, n_model):\n",
    "    len_eps = len(eps)\n",
    "    p = np.zeros(len_eps + 11)\n",
    "    p[:len_eps] = eps\n",
    "    p[-4:] = p_fix\n",
    "    p[-10] = len_eps\n",
    "    p[-11] = eps[-1] - eps[-2]\n",
    "    \n",
    "    p[-8] = A_model\n",
    "    p[-9] = n_model\n",
    "    \n",
    "    ms = p_fix[-1]\n",
    "    EB5 = ms/2\n",
    "    EB2 = (ms**2 - mpi_neutral**2)/(2*ms)\n",
    "    \n",
    "    p[-7:-4] = find_breaks(f, E5_index = np.where(eps < EB5 * a0)[0][-1], E2_index = np.where(eps < EB2 * a0)[0][-1])\n",
    "    \n",
    "    return p\n",
    "\n",
    "@nb.njit()\n",
    "def find_a_MAX(a0, t, p):\n",
    "    ms = p[-1]\n",
    "    tau = p[-2]\n",
    "    D = p[-3]\n",
    "    len_eps = infl(p[-10])\n",
    "    deps_last = p[-11]\n",
    "    \n",
    "    EB5 = ms/2\n",
    "    EB2 = (ms**2 - mpi_neutral**2)/(2*ms)\n",
    "    \n",
    "    \n",
    "    f_FULL = 2 * np.pi**2 * der.nH(t, 1/a0, p[-2], p[-3]) / ( 1/a0 * EB5**2 * deps_last )\n",
    "    decay_on = True\n",
    "    \n",
    "    if f_FULL < f_BUFFER:\n",
    "        decay_on = False\n",
    "        \n",
    "    a_max = a0 * a_MAXMULT\n",
    "    \n",
    "    if decay_on:\n",
    "        a_max = min(a_max, p[len_eps - 2 * MIN_eps_BUFFER - 1] / EB2)\n",
    "    \n",
    "    return a_max, decay_on\n",
    "\n",
    "@nb.njit()\n",
    "def driver(a0, eps0, y0, dx0, N_steps, dN, A_model, n_model, p_fix):\n",
    "    a_MAX, decay_on = find_a_MAX(a0, y0[-1], make_p(a0, eps0, y0[:-2], p_fix, A_model, n_model))\n",
    "    \n",
    "    a = a0\n",
    "    eps = np.copy(eps0)\n",
    "    y = np.copy(y0)\n",
    "    dx = dx0\n",
    "    \n",
    "    out_a = np.zeros(N_steps+1)\n",
    "    out_y = np.zeros((N_steps+1, len(y0)))\n",
    "    out_dx = np.zeros(N_steps+1)\n",
    "    \n",
    "    last_ind = N_steps\n",
    "    \n",
    "    eps_small = np.where(y0[:-2] > f_SMALL)[0][-1]\n",
    "    eps_buffer = np.where(y0[:-2] > f_BUFFER)[0][-1]\n",
    "    \n",
    "    out_a[0] = a0\n",
    "    out_y[0,:] = y0\n",
    "    out_dx[0] = dx0\n",
    "    \n",
    "    for ns in range(N_steps):\n",
    "        params = make_p(a, eps, y[:-2], p_fix, A_model, n_model)\n",
    "                \n",
    "        ode_out = ODESolve.ODEOneRun(a, y, dx, params, 1, dN, a_MAX)\n",
    "        \n",
    "        a = ode_out[0][-1]\n",
    "        dx = ode_out[2][-1]\n",
    "        y = np.copy(ode_out[1][-1])\n",
    "        \n",
    "        out_a[ns+1] = a\n",
    "        out_y[ns+1][:] = y\n",
    "        out_dx[ns+1] = dx\n",
    "        \n",
    "        if ode_out[3]:\n",
    "            last_ind = ns + 1\n",
    "            break\n",
    "            \n",
    "        eps_check = np.where(y[:-2] > f_SMALL)[0][-1]  \n",
    "        if eps_check - eps_small > (eps_buffer - eps_small) / 2:\n",
    "            last_ind = ns + 1\n",
    "            break\n",
    "\n",
    "            \n",
    "    \n",
    "    return out_a[:(last_ind+1)], out_y[:(last_ind+1),:], out_dx[:(last_ind+1)], decay_on\n",
    "\n",
    "@nb.njit()\n",
    "def forward(mH, y_v, e_array, a, decay_on):\n",
    "    eps_small_new = np.where(y_v[:-2] > f_SMALL)[0][-1]\n",
    "    xp = np.zeros(2)\n",
    "    yp = np.zeros(2)\n",
    "    kk = 0\n",
    "    while (yp[1] >= yp[0]):\n",
    "        if eps_small_new + kk >= len(e_array):\n",
    "            break\n",
    "        else:\n",
    "            for i in range(2):\n",
    "                yp[i] = y_v[eps_small_new + kk + i - 1]\n",
    "                xp[i] = e_array[eps_small_new + kk + i - 1]\n",
    "            kk += 1\n",
    "            \n",
    "    if eps_small_new + kk == len(e_array):\n",
    "        print(\"f is increasing at last box?\")\n",
    "        return y_v, e_array\n",
    "    \n",
    "    eps_small_new = eps_small_new + kk\n",
    "    bxsz = abs(xp[1] - xp[0])\n",
    "    new_len = len(y_v)\n",
    "    if y_v[eps_small_new] < f_BUFFER:\n",
    "        new_len = eps_small_new\n",
    "    else:\n",
    "        if decay_on:\n",
    "            e_up = np.where(e_array < 0.5 * mH * a)[0][-1]\n",
    "            if e_up > len(e_array) - 2 * MIN_eps_BUFFER:\n",
    "                e_up += MIN_eps_BUFFER * 3\n",
    "            e_test = e_array[eps_small_new-1] + (new_len - (MIN_eps_BUFFER + 1) - eps_small_new) * bxsz\n",
    "            while (e_test - 3*MIN_eps_BUFFER * bxsz)/a <= 0.5 * mH:\n",
    "                e_up += MIN_eps_BUFFER\n",
    "                e_test = e_array[eps_small_new-1] + (e_up - (MIN_eps_BUFFER + 1) - eps_small_new) * bxsz\n",
    "            \n",
    "            e_temp = max(eps_small_new, e_up)\n",
    "        else:\n",
    "            e_temp = eps_small_new\n",
    "            \n",
    "        if e_temp > len(y_v) - 5:\n",
    "            new_len = e_temp\n",
    "            \n",
    "            eps_small_new = np.where(y_v[:-2] > np.sqrt(f_SMALL*f_BUFFER))[0][-1]\n",
    "            yp[0] = y_v[eps_small_new-1]\n",
    "            yp[1] = y_v[eps_small_new]\n",
    "            xp[0] = e_array[eps_small_new-1]\n",
    "            xp[1] = e_array[eps_small_new]\n",
    "            \n",
    "            while yp[1] > yp[0]:\n",
    "                eps_small_new += 2\n",
    "                yp[0] = y_v[eps_small_new-1]\n",
    "                yp[1] = y_v[eps_small_new]\n",
    "                xp[0] = e_array[eps_small_new-1]\n",
    "                xp[1] = e_array[eps_small_new]\n",
    "                \n",
    "        else:\n",
    "            if y_v[e_temp] < f_BUFFER:\n",
    "                new_len = e_temp\n",
    "                eps_small_new = e_temp\n",
    "            else:\n",
    "                new_len = e_temp\n",
    "                \n",
    "                yp[0] = y_v[e_temp]\n",
    "                yp[1] = y_v[e_temp+1]\n",
    "                xp[0] = e_array[e_temp]\n",
    "                xp[1] = e_array[e_temp+1]\n",
    "                e_extrap = e_temp\n",
    "\n",
    "                while e_temp < len(y_v) - 5:\n",
    "                    if y_v[e_temp] < f_BUFFER:\n",
    "                        break\n",
    "                    if y_v[e_temp+1] < y_v[e_temp] and yp[1]/yp[0] > y_v[e_temp+1]/y_v[e_temp]:\n",
    "                        yp[0] = y_v[e_temp]\n",
    "                        yp[1] = y_v[e_temp+1]\n",
    "                        xp[0] = e_array[e_temp]\n",
    "                        xp[1] = e_array[e_temp+1]\n",
    "                        e_extrap = e_temp\n",
    "                    e_temp += 2\n",
    "                \n",
    "                for i in range(20*eps_small_new):\n",
    "                    if interp.log_linear_extrap(xp[0] + i * bxsz, xp, yp) > f_BUFFER:\n",
    "                        new_len = i + e_extrap\n",
    "                    else:\n",
    "                        break\n",
    "                    \n",
    "                eps_small_new = e_extrap\n",
    "    y = np.zeros(new_len+2)\n",
    "    y[-1] = y_v[-1]\n",
    "    y[-2] = y_v[-2]\n",
    "    eps_array = np.zeros(new_len)\n",
    "    for i in range(eps_small_new):\n",
    "        eps_array[i] = e_array[i]\n",
    "        y[i] = y_v[i]\n",
    "    if len(eps_array) > eps_small_new:\n",
    "        for i in range(eps_small_new, len(eps_array)):\n",
    "            eps_array[i] = e_array[eps_small_new-1] + (i+1 - eps_small_new) * bxsz\n",
    "            y[i] = interp.log_linear_extrap(eps_array[i], xp, yp)\n",
    "\n",
    "    return y, eps_array\n",
    "\n",
    "def nextstep(a0, eps0, y0, dx0, N_steps, dN, p_fix, fn, nr):\n",
    "    \n",
    "    input_filename = fn + \"/inputs-{}\".format(nr)\n",
    "    output_filename = fn + \"/full-{}\".format(nr)\n",
    "    \n",
    "    A_model, n_model = ca.model_An(a0, y0[-2])\n",
    "\n",
    "    np.savez(input_filename,ms=p_fix[-1],mixangle=p_fix[-4],a0=a0,y0=y0,dx0=dx0,e_array=eps0,A_model=A_model,n_model=n_model)\n",
    "    \n",
    "    result = driver(a0, eps0, y0, dx0, N_steps, dN, A_model, n_model, p_fix)\n",
    "    \n",
    "    np.savez(output_filename,ms=p_fix[-1],mixangle=p_fix[-4],a=result[0],y=result[1],dx=result[2],eps=eps0)\n",
    "    \n",
    "    y_next, eps_next = forward(p_fix[-1], result[1][-1], eps0, result[0][-1], result[3])\n",
    "    \n",
    "    return result[0][-1], eps_next, y_next, result[2][-1]\n",
    "\n",
    "\n",
    "def run_code(a0, eps0, y0, dx0, p_fix, temp_fin, folder_name):\n",
    "    a = a0\n",
    "    eps = np.copy(eps0)\n",
    "    y = np.copy(y0)\n",
    "    dx = dx0\n",
    "    for i in range(200):\n",
    "        a, eps, y, dx = nextstep(a, eps, y, dx, 100, 100, p_fix, folder_name, i)\n",
    "        \n",
    "        eps_small = np.where(y[:-2] > f_SMALL)[0][-1]\n",
    "        if eps_small > eps_small_MAX or len(y) > len_y_MAX:\n",
    "            y, eps = cv.simple_spread_eps(y, eps)\n",
    "            \n",
    "        if y[-2] < temp_fin:\n",
    "            break\n",
    "\n",
    "def run_code_error(folder_name, inputs_file):    \n",
    "    in_npz = np.load(\"{}/{}\".format(folder_name,inputs_file))\n",
    "    a = float(in_npz['a0'])\n",
    "    y = in_npz['y0']\n",
    "    eps = in_npz['e_array']\n",
    "    dx = float(in_npz['dx0'])\n",
    "    \n",
    "    p_fix = make_p_fixed(float(in_npz['ms']), float(in_npz['mixangle']), 1/1.79**3)\n",
    "\n",
    "    fn = \"{}/debug\".format(folder_name)    \n",
    "    if not os.path.exists(fn):\n",
    "        os.makedirs(fn)\n",
    "    else:\n",
    "        print(\"Folder {} already exists.  Overwriting any data\".format(fn))\n",
    "        \n",
    "    shutil.copy(\"{}/{}\".format(folder_name,inputs_file), \"{}/debug/original-{}\".format(folder_name, inputs_file))\n",
    "\n",
    "\n",
    "    for i in range(200):\n",
    "        a, eps, y, dx = nextstep(a, eps, y, dx, 10, 5, p_fix, fn, i)\n",
    "\n",
    "def run_code_w_error(a0, eps0, y0, dx0, p_fix, temp_fin, folder_name):\n",
    "    a = a0\n",
    "    eps = np.copy(eps0)\n",
    "    y = np.copy(y0)\n",
    "    dx = dx0\n",
    "    for i in range(200):\n",
    "        try:\n",
    "            a, eps, y, dx = nextstep(a, eps, y, dx, 100, 100, p_fix, folder_name, i)\n",
    "            \n",
    "            eps_small = np.where(y[:-2] > f_SMALL)[0][-1]\n",
    "            if eps_small > eps_small_MAX or len(y) > len_y_MAX:\n",
    "                y, eps = cv.simple_spread_eps(y, eps)\n",
    "            \n",
    "            if y[-2] < temp_fin:\n",
    "                break\n",
    "        except:\n",
    "            try:\n",
    "                run_code_error(folder_name, \"inputs-{}.npz\".format(i))\n",
    "                print(\"Error occurred in Run {}.  Somehow error was not repeated\".format(i))\n",
    "            except:\n",
    "                print(\"Error occurred in Run {}.  Debugging runs completed.\".format(i))                \n",
    "            return -1\n",
    "    return i\n",
    "\n",
    "@nb.njit()\n",
    "def make_p_fixed(ms,mixangle,D):\n",
    "    p_out = np.zeros(4,dtype=np.float64)\n",
    "    p_out[-1] = ms\n",
    "    p_out[-2] = der.tH(ms,mixangle)\n",
    "    p_out[-3] = D\n",
    "    p_out[-4] = mixangle\n",
    "    return p_out\n",
    "\n",
    "@nb.njit()\n",
    "def det_new_ics(T_i):\n",
    "    a = 1/T_i\n",
    "    eps_small = - int(np.log(f_SMALL)/initial_boxsize)\n",
    "    eps_buffer = max(eps_small + MIN_eps_BUFFER, - int(np.log(f_BUFFER)/initial_boxsize))\n",
    "\n",
    "    initial_size = int((eps_buffer * initial_boxsize - eps_small_box)/initial_boxsize) + num_small_boxes\n",
    "    y = np.zeros(initial_size + 2)\n",
    "    eps_arr = np.zeros(initial_size)\n",
    "    for i in range(num_small_boxes):\n",
    "        eps_arr[i] = i * small_boxsize\n",
    "        y[i] = 1 / (np.exp(eps_arr[i])+1)\n",
    "    for i in range(num_small_boxes, len(eps_arr)):\n",
    "        eps_arr[i] = eps_arr[num_small_boxes-1] + (i+1-num_small_boxes) * initial_boxsize\n",
    "        y[i] = 1 / (np.exp(eps_arr[i])+1)\n",
    "    y[-2] = T_i\n",
    "\n",
    "    return a, y, eps_arr\n",
    "\n",
    "def N_eff(a_f,T_f,f_final,e_a): #this code assumes that y_final does not have both neutrino & antineutrino information\n",
    "    TCM = 1/a_f \n",
    "    e_dens = (TCM**4/(2*np.pi**2))*der.trapezoid(f_final*e_a**3,e_a)\n",
    "    neff = e_dens/((7/4)*(4/11)**(4/3)*(np.pi**2/30)*(T_f)**4)\n",
    "    return 6*neff #to account for all 3 flavors of neutrinos and all 3 flavors of antineutrinos\n",
    "\n",
    "\n",
    "\n",
    "def run(ms, mixangle, T0 = 15, D = 1/1.79**3, Tfin = 0.001):\n",
    "    p_fix = make_p_fixed(ms, mixangle, D)\n",
    "\n",
    "    a0, y0, eps0 = det_new_ics(T0)\n",
    "    dx0 = a0/1000\n",
    "\n",
    "    print(\"Mass = {} MeV; Lifetime = {:.3} s\".format(ms,p_fix[-2]*6.58e-22))\n",
    "    \n",
    "    fn = \"{}-{:.4}\".format(ms,mixangle)\n",
    "\n",
    "    if not os.path.exists(fn):\n",
    "        os.makedirs(fn)\n",
    "    else:\n",
    "        print(\"Folder {} already exists.  Overwriting any data\".format(fn))\n",
    "\n",
    "    i_final = run_code_w_error(a0, eps0, y0, dx0, p_fix, Tfin, fn)\n",
    "    \n",
    "    if i_final != -1:\n",
    "        read_npz = np.load(\"{}/full-{}.npz\".format(fn,i_final))\n",
    "        af = read_npz['a'][-1]\n",
    "        Tf = read_npz['y'][-1,-2]\n",
    "        f_f = read_npz['y'][-1,:-2]\n",
    "        e_f = read_npz['eps']\n",
    "        print(\"N_eff = {:.5}\".format(N_eff(af, Tf, f_f, e_f)))\n",
    "    \n",
    "    \n",
    "#    print(\"N_eff = {}\".format(run_Neff(fn+\"full\")))\n",
    "\n"
   ]
  },
  {
   "cell_type": "code",
   "execution_count": 12,
   "metadata": {},
   "outputs": [],
   "source": [
    "aaa=np.load(\"mass-300-life-0.912.npz\",allow_pickle=True)"
   ]
  },
  {
   "cell_type": "code",
   "execution_count": 13,
   "metadata": {},
   "outputs": [
    {
     "data": {
      "text/plain": [
       "['mass',\n",
       " 'mixing',\n",
       " 'lifetime',\n",
       " 'neff',\n",
       " 'scalefactors',\n",
       " 'time',\n",
       " 'temp',\n",
       " 'Tcm',\n",
       " 'e',\n",
       " 'fe',\n",
       " 'NumbDensityDist',\n",
       " 'decayrate',\n",
       " 'collisionrate',\n",
       " 'n_p_rate',\n",
       " 'p_n_rate']"
      ]
     },
     "execution_count": 13,
     "metadata": {},
     "output_type": "execute_result"
    }
   ],
   "source": [
    "aaa.files"
   ]
  },
  {
   "cell_type": "code",
   "execution_count": 28,
   "metadata": {},
   "outputs": [],
   "source": [
    "eps = aaa['e'][200]\n",
    "y = np.zeros(len(eps)+2)\n",
    "y[:len(eps)]=aaa['fe'][200]\n",
    "y[-1]=aaa['temp'][200]\n",
    "y[-2]=aaa['time'][200]\n",
    "\n",
    "yy,x = cvv.simple_spread_eps(y,eps)\n",
    "yyy,xx = cv.simple_spread_eps(y,eps)"
   ]
  },
  {
   "cell_type": "code",
   "execution_count": 45,
   "metadata": {},
   "outputs": [
    {
     "data": {
      "text/plain": [
       "<Figure size 432x288 with 0 Axes>"
      ]
     },
     "execution_count": 45,
     "metadata": {},
     "output_type": "execute_result"
    },
    {
     "data": {
      "image/png": "[encoded data removed]",
      "text/plain": [
       "<Figure size 432x288 with 1 Axes>"
      ]
     },
     "metadata": {
      "needs_background": "light"
     },
     "output_type": "display_data"
    },
    {
     "data": {
      "text/plain": [
       "<Figure size 432x288 with 0 Axes>"
      ]
     },
     "metadata": {},
     "output_type": "display_data"
    }
   ],
   "source": [
    "plt.figure()\n",
    "plt.semilogy(x**3,yy[:-2], '-o')\n",
    "plt.semilogy(xx**3,yyy[:-2], '-o')\n",
    "#plt.xlim(10,20)\n",
    "#plt.ylim(10**-16,10**-6)\n",
    "plt.figure()"
   ]
  },
  {
   "cell_type": "code",
   "execution_count": 46,
   "metadata": {},
   "outputs": [
    {
     "data": {
      "text/plain": [
       "array([1.        , 1.        , 1.        , 1.        , 1.        ,\n",
       "       1.        , 1.        , 1.        , 1.        , 1.        ,\n",
       "       1.        , 1.        , 1.        , 1.        , 1.        ,\n",
       "       1.        , 1.        , 1.        , 1.        , 1.        ,\n",
       "       1.        , 1.        , 1.        , 1.        , 1.        ,\n",
       "       1.        , 1.        , 1.        , 1.        , 1.        ,\n",
       "       1.        , 1.        , 1.        , 0.85895654, 0.88462097,\n",
       "       0.90009106, 0.91134998, 0.91765778, 0.92385806, 0.9276826 ,\n",
       "       0.93185825, 0.93538643, 0.93841743, 0.94107892, 0.94346919,\n",
       "       0.94559477, 0.94749198, 0.94919145, 0.95071839, 0.95208775,\n",
       "       0.95331321, 0.95441056, 0.95526673, 0.95617127, 0.95678618,\n",
       "       0.95725523, 0.95756366, 0.95732812, 0.95758536, 0.95721994,\n",
       "       0.95655973, 0.96063609, 0.96090421, 0.9606683 , 0.96023493,\n",
       "       0.9595717 , 0.95860799, 0.95873545, 0.96606206, 0.96655755,\n",
       "       0.96705878, 0.96757333, 0.96810792, 0.96866895, 0.96938716,\n",
       "       0.97004892, 0.97076989, 0.97156125, 0.97242813, 0.97337426,\n",
       "       0.97440982, 0.97553231, 0.97850173, 0.98150727, 0.98428971,\n",
       "       0.98712222, 0.99007718, 0.99308311, 0.996053  , 0.99891309,\n",
       "       0.99841566, 0.99601548, 0.99392528, 0.99215795, 0.99070348,\n",
       "       0.9895435 , 0.98865414, 0.98798565, 0.98617937, 0.98585691,\n",
       "       0.98568407, 0.5536045 , 0.95471968, 0.95591744, 0.95679134,\n",
       "       0.95754384, 0.95829723, 0.95908805, 0.95992405, 0.96078506,\n",
       "       0.96164394, 0.96258484, 0.9636135 , 0.96469269, 0.96575601,\n",
       "       0.96686421, 0.96807116, 0.96925032, 0.97044088, 0.9714997 ,\n",
       "       0.96235114, 0.96582207, 0.96587701, 0.96589425, 0.96587387,\n",
       "       0.96581576, 0.96571977, 0.96558577, 0.96541355, 0.96520292,\n",
       "       0.96495358, 0.9646652 , 0.96433735, 0.96396955, 0.96356121,\n",
       "       0.96311173, 0.96262041, 0.96208652, 0.96150933, 0.96088812,\n",
       "       0.96022229, 0.95951146, 0.95875562, 0.95795523, 0.95711145,\n",
       "       0.95622633, 0.95530308, 0.9543465 , 0.95336335, 0.95236294,\n",
       "       0.95135779, 0.95036437, 0.94940389, 0.94850317, 0.94769521,\n",
       "       0.94701945, 0.9465211 , 0.94624915, 0.94625274, 0.94657482,\n",
       "       0.9472435 , 0.9482617 , 0.94959754, 0.95117902, 0.95289668,\n",
       "       0.95461641, 0.95620089, 0.95753436, 0.95854345, 0.9592084 ,\n",
       "       0.95956186, 0.95967592, 0.95963978, 0.95953253, 0.95940006,\n",
       "       0.95925416, 0.95909613, 0.9589269 , 0.95874727, 0.95855789,\n",
       "       0.95835931, 0.95815195, 0.95793614, 0.95771224, 0.95748061,\n",
       "       0.95724182, 0.95699665, 0.95674626, 0.95649225, 0.95623662,\n",
       "       0.95598177, 0.95573026, 0.95548462, 0.95524714, 0.95502004,\n",
       "       0.95480558, 0.9546061 , 0.95442399, 0.95426162, 0.95412133,\n",
       "       0.95400534, 0.95391566, 0.95385406, 0.95382193, 0.95382024,\n",
       "       0.95384938, 0.95390915, 0.95399862, 0.95411615, 0.95425931,\n",
       "       0.95442494, 0.95460917, 0.95480754, 0.95501515, 0.95522678,\n",
       "       0.95543715, 0.95564109, 0.95583372, 0.95601072, 0.95616841,\n",
       "       0.95630391, 0.95641521, 0.95650118, 0.95656159, 0.95659701,\n",
       "       0.95660872, 0.95659858, 0.95656893, 0.95652238, 0.95646171,\n",
       "       0.95638973, 0.95630915, 0.9562225 , 0.95613208, 0.95603988,\n",
       "       0.95594762, 0.95585673, 0.95576837, 0.95568352, 0.95560295,\n",
       "       0.95552732, 0.95545721, 0.95539309, 0.95533541, 0.95528454,\n",
       "       0.9552408 , 0.95520444, 0.95517564, 0.95515451, 0.95514106,\n",
       "       0.9551352 , 0.95513677, 0.95514549, 0.955161  , 0.95518281,\n",
       "       0.95521038, 0.95524306, 0.95528014, 0.95532085, 0.95536437,\n",
       "       0.95540984, 0.9554564 , 0.95550319, 0.95554938, 0.95559414,\n",
       "       0.95563674, 0.95567649, 0.95571278, 0.95574511, 0.95577305,\n",
       "       0.95579631, 0.95581466, 0.95582803, 0.9558364 , 0.9558399 ,\n",
       "       0.95583872, 0.95583313, 0.95582349, 0.95581022, 0.95579376,\n",
       "       0.95577461, 0.95575328, 0.95573031, 0.95570622, 0.95568149,\n",
       "       0.95565665, 0.95563213, 0.95560815, 0.95558566, 0.95556445,\n",
       "       0.95554496, 0.95552743, 0.95551204, 0.95549891, 0.95548812,\n",
       "       0.95547972, 0.95547369, 0.95547   , 0.95546856, 0.95546927,\n",
       "       0.95547199, 0.95547656, 0.9554828 , 0.95549052, 0.95549951,\n",
       "       0.95550956, 0.95552044, 0.95553194, 0.95554383, 0.95555589,\n",
       "       0.95556792, 0.95557972, 0.9555911 , 0.95560189, 0.95561195,\n",
       "       0.95562113, 0.95562933, 0.95563646, 0.95564245, 0.95564725,\n",
       "       0.95565084, 0.95565322, 0.95565442, 0.95565446, 0.95565342,\n",
       "       0.95565135, 0.95564836, 0.95564454, 0.95564   , 0.95563486,\n",
       "       0.95562924, 0.95562326, 0.95561704, 0.95561071, 0.95560438,\n",
       "       0.95559817, 0.95559217, 0.95558648, 0.95558118, 0.95557634,\n",
       "       0.95557202, 0.95556827, 0.95556512, 0.95556259, 0.95556069,\n",
       "       0.95555943, 0.95555877, 0.95555872, 0.95555922, 0.95556024,\n",
       "       0.95556173, 0.95556364, 0.95556591, 0.95556849, 0.95557131,\n",
       "       0.95557431, 0.95557743, 0.9555806 , 0.95558377, 0.95558689,\n",
       "       0.9555899 , 0.95559276, 0.95559543, 0.95559787, 0.95560006,\n",
       "       0.95560196, 0.95560356, 0.95560485, 0.95560583, 0.95560649,\n",
       "       0.95560683, 0.95560687, 0.95560663, 0.95560611, 0.95560534,\n",
       "       0.95560435, 0.95560316, 0.9556018 , 0.9556003 , 0.95559868,\n",
       "       0.95559699, 0.95559525, 0.95559349, 0.95559175, 0.95559015,\n",
       "       0.95558866, 0.95558727, 0.95558599, 0.95558483, 0.95558382,\n",
       "       0.95558296, 0.95558225, 0.95558171, 0.95558133, 0.95558112,\n",
       "       0.95558106, 0.95558114, 0.95558137, 0.95558173, 0.9555822 ,\n",
       "       0.95558278, 0.95558344, 0.95558417, 0.95558496, 0.95558578,\n",
       "       0.95558664, 0.95558749, 0.95558834, 0.95558918, 0.95558998,\n",
       "       0.95559073, 0.95559143, 0.95559207, 0.95559264, 0.95559314,\n",
       "       0.95559356, 0.9555939 , 0.95559416, 0.95559434, 0.95559445,\n",
       "       0.95559448, 0.95559443, 0.95559432, 0.95559415, 0.95559393,\n",
       "       0.95559365, 0.95559332, 0.95559295, 0.95559255, 0.9555921 ,\n",
       "       0.95559163, 0.95559111, 0.95559056, 0.95558996, 0.95558931,\n",
       "       0.95558859, 0.95558778, 0.95558687, 0.95558582, 0.95558459,\n",
       "       0.95558314, 0.95558142, 0.95557936, 0.95557688, 0.95557388,\n",
       "       0.95557026, 0.95556589, 0.95556061, 0.95555426, 0.95554663,\n",
       "       0.95553751, 0.95552667, 0.95551388, 0.95549895, 0.95548179,\n",
       "       0.95546263, 0.95544306, 0.95544341])"
      ]
     },
     "execution_count": 46,
     "metadata": {},
     "output_type": "execute_result"
    }
   ],
   "source": [
    "yyy[:-2]/yy[:-2]"
   ]
  },
  {
   "cell_type": "code",
   "execution_count": 48,
   "metadata": {},
   "outputs": [],
   "source": [
    "def trapezoid(y_array,x_array):\n",
    "    total = np.sum((x_array[1:]-x_array[:-1])*(y_array[1:]+y_array[:-1])/2)\n",
    "    return total\n",
    "meaned = trapezoid(yyy[:-2],xx)\n",
    "maxed = trapezoid(yy[:-2],x)"
   ]
  },
  {
   "cell_type": "code",
   "execution_count": 50,
   "metadata": {},
   "outputs": [
    {
     "name": "stdout",
     "output_type": "stream",
     "text": [
      "0.6958392962397983 0.6959038790467796 0.999907195793951\n"
     ]
    }
   ],
   "source": [
    "print(meaned,maxed,meaned/maxed)"
   ]
  },
  {
   "cell_type": "code",
   "execution_count": 51,
   "metadata": {},
   "outputs": [],
   "source": [
    "original = trapezoid(aaa['fe'][200],aaa['e'][200])"
   ]
  },
  {
   "cell_type": "code",
   "execution_count": 54,
   "metadata": {},
   "outputs": [
    {
     "name": "stdout",
     "output_type": "stream",
     "text": [
      "0.6957882308749997 1.0000733921077314\n"
     ]
    }
   ],
   "source": [
    "print(original,meaned/original)"
   ]
  },
  {
   "cell_type": "code",
   "execution_count": 55,
   "metadata": {},
   "outputs": [
    {
     "name": "stdout",
     "output_type": "stream",
     "text": [
      "1.0001662117389287\n"
     ]
    }
   ],
   "source": [
    "print(maxed/original)"
   ]
  },
  {
   "cell_type": "code",
   "execution_count": 67,
   "metadata": {},
   "outputs": [],
   "source": [
    "x=np.linspace(0,343,344)\n",
    "ratio_mean=np.zeros(len(x))\n",
    "ratio_max=np.zeros(len(x))\n",
    "for i in range(len(aaa['e'])):\n",
    "    eps = aaa['e'][i]\n",
    "    y = np.zeros(len(eps)+2)\n",
    "    y[:len(eps)]=aaa['fe'][i]\n",
    "    y[-1]=aaa['temp'][i]\n",
    "    y[-2]=aaa['time'][i]\n",
    "    y_new,e = cv.simple_spread_eps(y,eps)\n",
    "    y_maxed,e = cvv.simple_spread_eps(y,eps)\n",
    "    y_trap = trapezoid(y_new[:-2],e)\n",
    "    y_trap_max = trapezoid(y_maxed[:-2],e)\n",
    "    ratio_mean[i]=y_trap/original\n",
    "    ratio_max[i]=y_trap_max/original"
   ]
  },
  {
   "cell_type": "code",
   "execution_count": 75,
   "metadata": {},
   "outputs": [
    {
     "data": {
      "text/plain": [
       "<Figure size 432x288 with 0 Axes>"
      ]
     },
     "execution_count": 75,
     "metadata": {},
     "output_type": "execute_result"
    },
    {
     "data": {
      "image/png": "[encoded data removed]",
      "text/plain": [
       "<Figure size 432x288 with 1 Axes>"
      ]
     },
     "metadata": {
      "needs_background": "light"
     },
     "output_type": "display_data"
    },
    {
     "data": {
      "text/plain": [
       "<Figure size 432x288 with 0 Axes>"
      ]
     },
     "metadata": {},
     "output_type": "display_data"
    }
   ],
   "source": [
    "plt.figure()\n",
    "plt.plot(x,ratio_mean)\n",
    "plt.plot(x,ratio_max)\n",
    "#plt.xlim(50,150)\n",
    "#plt.ylim(1,1.011)\n",
    "plt.figure()"
   ]
  },
  {
   "cell_type": "code",
   "execution_count": null,
   "metadata": {},
   "outputs": [],
   "source": []
  },
  {
   "cell_type": "code",
   "execution_count": 104,
   "metadata": {},
   "outputs": [],
   "source": [
    "\n",
    "def epsilon_tester(l):\n",
    "    eps = aaa['e'][l]\n",
    "    y = np.zeros(len(eps)+2)\n",
    "    y[:len(eps)]=aaa['fe'][l]\n",
    "    y[-1]=aaa['temp'][l]\n",
    "    y[-2]=aaa['time'][l]\n",
    "    y_new,e_new = cv.simple_spread_eps(y,eps)\n",
    "    y_maxed,e_max = cvv.simple_spread_eps(y,eps)\n",
    "    \n",
    "    original = trapezoid(aaa['fe'][l],aaa['e'][l])\n",
    "    y_trap = trapezoid(y_new[:-2],e_new)\n",
    "    y_trap_max = trapezoid(y_maxed[:-2],e_max)\n",
    "    #can print the above integrals if needed...\n",
    "    \n",
    "    plt.figure()\n",
    "    plt.loglog(e_new,y_new[:-2]*e_new**3)\n",
    "    plt.loglog(e_max,y_maxed[:-2]*e_max**3)\n",
    "    plt.loglog(eps,aaa['fe'][l]*eps**3)\n",
    "    #plt.xlim(10,20)\n",
    "    #plt.ylim(10**-16,10**-6)\n",
    "    plt.figure()"
   ]
  },
  {
   "cell_type": "code",
   "execution_count": 105,
   "metadata": {},
   "outputs": [
    {
     "data": {
      "image/png": "[encoded data removed]",
      "text/plain": [
       "<Figure size 432x288 with 1 Axes>"
      ]
     },
     "metadata": {
      "needs_background": "light"
     },
     "output_type": "display_data"
    },
    {
     "data": {
      "text/plain": [
       "<Figure size 432x288 with 0 Axes>"
      ]
     },
     "metadata": {},
     "output_type": "display_data"
    }
   ],
   "source": [
    "epsilon_tester(135)"
   ]
  },
  {
   "cell_type": "code",
   "execution_count": 92,
   "metadata": {},
   "outputs": [
    {
     "data": {
      "image/png": "[encoded data removed]",
      "text/plain": [
       "<Figure size 432x288 with 1 Axes>"
      ]
     },
     "metadata": {
      "needs_background": "light"
     },
     "output_type": "display_data"
    },
    {
     "data": {
      "text/plain": [
       "<Figure size 432x288 with 0 Axes>"
      ]
     },
     "metadata": {},
     "output_type": "display_data"
    }
   ],
   "source": [
    "epsilon_tester(183)"
   ]
  },
  {
   "cell_type": "code",
   "execution_count": 93,
   "metadata": {},
   "outputs": [
    {
     "data": {
      "image/png": "[encoded data removed]",
      "text/plain": [
       "<Figure size 432x288 with 1 Axes>"
      ]
     },
     "metadata": {
      "needs_background": "light"
     },
     "output_type": "display_data"
    },
    {
     "data": {
      "text/plain": [
       "<Figure size 432x288 with 0 Axes>"
      ]
     },
     "metadata": {},
     "output_type": "display_data"
    }
   ],
   "source": [
    "epsilon_tester(334)"
   ]
  },
  {
   "cell_type": "code",
   "execution_count": 95,
   "metadata": {},
   "outputs": [
    {
     "data": {
      "image/png": "[encoded data removed]",
      "text/plain": [
       "<Figure size 432x288 with 1 Axes>"
      ]
     },
     "metadata": {
      "needs_background": "light"
     },
     "output_type": "display_data"
    },
    {
     "data": {
      "text/plain": [
       "<Figure size 432x288 with 0 Axes>"
      ]
     },
     "metadata": {},
     "output_type": "display_data"
    }
   ],
   "source": [
    "epsilon_tester(335)"
   ]
  },
  {
   "cell_type": "code",
   "execution_count": 106,
   "metadata": {},
   "outputs": [
    {
     "data": {
      "image/png": "[encoded data removed]",
      "text/plain": [
       "<Figure size 432x288 with 1 Axes>"
      ]
     },
     "metadata": {
      "needs_background": "light"
     },
     "output_type": "display_data"
    },
    {
     "data": {
      "text/plain": [
       "<Figure size 432x288 with 0 Axes>"
      ]
     },
     "metadata": {},
     "output_type": "display_data"
    }
   ],
   "source": [
    "epsilon_tester(16)"
   ]
  },
  {
   "cell_type": "code",
   "execution_count": null,
   "metadata": {},
   "outputs": [],
   "source": []
  }
 ],
 "metadata": {
  "kernelspec": {
   "display_name": "Python 3",
   "language": "python",
   "name": "python3"
  },
  "language_info": {
   "codemirror_mode": {
    "name": "ipython",
    "version": 3
   },
   "file_extension": ".py",
   "mimetype": "text/x-python",
   "name": "python",
   "nbconvert_exporter": "python",
   "pygments_lexer": "ipython3",
   "version": "3.7.6"
  }
 },
 "nbformat": 4,
 "nbformat_minor": 4
}
